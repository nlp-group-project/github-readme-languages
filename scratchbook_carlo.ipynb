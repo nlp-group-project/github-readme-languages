{
 "cells": [
  {
   "cell_type": "code",
   "execution_count": 1,
   "id": "c1a452e3",
   "metadata": {},
   "outputs": [],
   "source": [
    "#Imports\n",
    "import pandas as pd\n",
    "import numpy as np\n",
    "import acquire as a\n",
    "import unicodedata\n",
    "import re\n",
    "import json\n",
    "import time\n",
    "import requests\n",
    "import nltk\n",
    "from nltk.tokenize.toktok import ToktokTokenizer\n",
    "from nltk.corpus import stopwords\n",
    "import os\n",
    "\n",
    "from requests import get\n",
    "from bs4 import BeautifulSoup\n",
    "\n",
    "# Visual \n",
    "import matplotlib.pyplot as plt\n",
    "import seaborn as sns\n",
    "from wordcloud import WordCloud\n",
    "\n",
    "\n",
    "import prepare as p\n",
    "\n"
   ]
  },
  {
   "cell_type": "code",
   "execution_count": 2,
   "id": "f569c1f0",
   "metadata": {},
   "outputs": [
    {
     "data": {
      "text/plain": [
       "<Response [429]>"
      ]
     },
     "execution_count": 2,
     "metadata": {},
     "output_type": "execute_result"
    }
   ],
   "source": [
    "url = 'https://github.com/search?o=desc&p=1&q=shoes&s=stars&type=Repositories'\n",
    "response = get(url)\n",
    "response"
   ]
  },
  {
   "cell_type": "code",
   "execution_count": 3,
   "id": "2841cd56",
   "metadata": {},
   "outputs": [
    {
     "data": {
      "text/plain": [
       "<!DOCTYPE html>\n",
       "\n",
       "<html>\n",
       "<head>\n",
       "<meta content=\"text/html; charset=utf-8\" http-equiv=\"Content-type\"/>\n",
       "<meta content=\"default-src 'none'; base-uri 'self'; connect-src 'self'; form-action 'self'; img-src 'self' data:; script-src 'self'; style-src 'unsafe-inline'\" http-equiv=\"Content-Security-Policy\"/>\n",
       "<meta content=\"origin\" name=\"referrer\"/>\n",
       "<title>Rate limit · GitHub</title>\n",
       "<meta content=\"width=device-width\" name=\"viewport\"/>\n",
       "<style media=\"screen\" type=\"text/css\">\n",
       "      body {\n",
       "        background-color: #f6f8fa;\n",
       "        color: #24292e;\n",
       "        font-family: -apple-system,BlinkMacSystemFont,Segoe UI,Helvetica,Arial,sans-serif,Apple Color Emoji,Segoe UI Emoji,Segoe UI Symbol;\n",
       "        font-size: 14px;\n",
       "        line-height: 1.5;\n",
       "        margin: 0;\n",
       "      }\n",
       "\n",
       "      .container { margin: 50px auto; max-width: 600px; text-align: center; padding: 0 24px; }\n",
       "\n",
       "      a { color: #0366d6; text-decoration: none; }\n",
       "      a:hover { text-decoration: underline; }\n",
       "\n",
       "      h1 { line-height: 60px; font-size: 48px; font-weight: 300; margin: 0px; text-shadow: 0 1px 0 #fff; }\n",
       "      p { color: rgba(0, 0, 0, 0.5); margin: 20px 0 40px; }\n",
       "\n",
       "      ul { list-style: none; margin: 25px 0; padding: 0; }\n",
       "      li { display: table-cell; font-weight: bold; width: 1%; }\n",
       "\n",
       "      .logo { display: inline-block; margin-top: 35px; }\n",
       "      .logo-img-2x { display: none; }\n",
       "      @media\n",
       "      only screen and (-webkit-min-device-pixel-ratio: 2),\n",
       "      only screen and (   min--moz-device-pixel-ratio: 2),\n",
       "      only screen and (     -o-min-device-pixel-ratio: 2/1),\n",
       "      only screen and (        min-device-pixel-ratio: 2),\n",
       "      only screen and (                min-resolution: 192dpi),\n",
       "      only screen and (                min-resolution: 2dppx) {\n",
       "        .logo-img-1x { display: none; }\n",
       "        .logo-img-2x { display: inline-block; }\n",
       "      }\n",
       "\n",
       "      #suggestions {\n",
       "        margin-top: 35px;\n",
       "        color: #ccc;\n",
       "      }\n",
       "      #suggestions a {\n",
       "        color: #666666;\n",
       "        font-weight: 200;\n",
       "        font-size: 14px;\n",
       "        margin: 0 10px;\n",
       "      }\n",
       "\n",
       "    </style>\n",
       "</head>\n",
       "<body>\n",
       "<div class=\"container\">\n",
       "<h1>Whoa there!</h1>\n",
       "<p>You have exceeded a secondary rate limit.<br/><br/>\n",
       "        Please wait a few minutes before you try again;<br/>\n",
       "        in some cases this may take up to an hour.\n",
       "      </p>\n",
       "<div id=\"suggestions\">\n",
       "<a href=\"https://support.github.com/contact\">Contact Support</a> —\n",
       "        <a href=\"https://githubstatus.com\">GitHub Status</a> —\n",
       "        <a href=\"https://twitter.com/githubstatus\">@githubstatus</a>\n",
       "</div>\n",
       "<a class=\"logo logo-img-1x\" href=\"/\">\n",
       "<img alt=\"\" height=\"32\" src=\"data:image/png;base64,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\" title=\"\" width=\"32\"/>\n",
       "</a>\n",
       "<a class=\"logo logo-img-2x\" href=\"/\">\n",
       "<img alt=\"\" height=\"32\" src=\"data:image/png;base64,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\" title=\"\" width=\"32\"/>\n",
       "</a>\n",
       "</div>\n",
       "</body>\n",
       "</html>"
      ]
     },
     "execution_count": 3,
     "metadata": {},
     "output_type": "execute_result"
    }
   ],
   "source": [
    "# BeautifulSoup\n",
    "soup = BeautifulSoup(response.content, 'html.parser')\n",
    "soup"
   ]
  },
  {
   "cell_type": "code",
   "execution_count": 4,
   "id": "fca2a076",
   "metadata": {},
   "outputs": [],
   "source": [
    "pageCount = 15\n",
    "urlsList = []\n",
    "url = \"https://github.com/search?o=desc&p={}&q=shoes&s=stars&type=Repositories\" #curly braces lets you format\n",
    "    \n",
    "for x in range(pageCount)[1:]:\n",
    "    urlsList.append(url.format(x))"
   ]
  },
  {
   "cell_type": "code",
   "execution_count": 5,
   "id": "233a4b8d",
   "metadata": {},
   "outputs": [],
   "source": [
    "#for url in urlsList:\n",
    "    \n",
    "    #response = get(url)\n",
    "    #time.sleep(10)\n",
    "    #print(response)"
   ]
  },
  {
   "cell_type": "code",
   "execution_count": 6,
   "id": "c528c3c5",
   "metadata": {},
   "outputs": [],
   "source": [
    "df = a.get_readme_data()"
   ]
  },
  {
   "cell_type": "code",
   "execution_count": 7,
   "id": "32cb5e15",
   "metadata": {},
   "outputs": [],
   "source": [
    "df = pd.DataFrame(df)"
   ]
  },
  {
   "cell_type": "code",
   "execution_count": 8,
   "id": "16b96df8",
   "metadata": {},
   "outputs": [
    {
     "data": {
      "text/html": [
       "<div>\n",
       "<style scoped>\n",
       "    .dataframe tbody tr th:only-of-type {\n",
       "        vertical-align: middle;\n",
       "    }\n",
       "\n",
       "    .dataframe tbody tr th {\n",
       "        vertical-align: top;\n",
       "    }\n",
       "\n",
       "    .dataframe thead th {\n",
       "        text-align: right;\n",
       "    }\n",
       "</style>\n",
       "<table border=\"1\" class=\"dataframe\">\n",
       "  <thead>\n",
       "    <tr style=\"text-align: right;\">\n",
       "      <th></th>\n",
       "      <th>repo</th>\n",
       "      <th>language</th>\n",
       "      <th>readme_contents</th>\n",
       "    </tr>\n",
       "  </thead>\n",
       "  <tbody>\n",
       "    <tr>\n",
       "      <th>0</th>\n",
       "      <td>shoes/shoes4</td>\n",
       "      <td>Ruby</td>\n",
       "      <td># Shoes 4 [![Linux Build Status](https://secur...</td>\n",
       "    </tr>\n",
       "    <tr>\n",
       "      <th>1</th>\n",
       "      <td>druv5319/Sneaks-API</td>\n",
       "      <td>JavaScript</td>\n",
       "      <td>\\n&lt;p align=\"center\"&gt;\\n  \\n&lt;img src=\"https://gi...</td>\n",
       "    </tr>\n",
       "    <tr>\n",
       "      <th>2</th>\n",
       "      <td>shoes/shoes3</td>\n",
       "      <td>C</td>\n",
       "      <td>\\n    ((( |||_| ///\\ [[[_ ...</td>\n",
       "    </tr>\n",
       "    <tr>\n",
       "      <th>3</th>\n",
       "      <td>WebAR-rocks/WebAR.rocks.hand</td>\n",
       "      <td>JavaScript</td>\n",
       "      <td># JavaScript/WebGL lightweight and robust hand...</td>\n",
       "    </tr>\n",
       "    <tr>\n",
       "      <th>4</th>\n",
       "      <td>brandontruggles/Selenium-Shoe-Bot-NakedCPH</td>\n",
       "      <td>Python</td>\n",
       "      <td># Selenium Shoe Bot (DEPRECATED!)\\n\\n**This pr...</td>\n",
       "    </tr>\n",
       "    <tr>\n",
       "      <th>...</th>\n",
       "      <td>...</td>\n",
       "      <td>...</td>\n",
       "      <td>...</td>\n",
       "    </tr>\n",
       "    <tr>\n",
       "      <th>93</th>\n",
       "      <td>Kvas1407/ecomm-store-project</td>\n",
       "      <td>HTML</td>\n",
       "      <td># Web Design &amp; Development 1\\n## E-Comm Websto...</td>\n",
       "    </tr>\n",
       "    <tr>\n",
       "      <th>94</th>\n",
       "      <td>bisofts/kingshoes</td>\n",
       "      <td>None</td>\n",
       "      <td># kingshoes.-test.github.io</td>\n",
       "    </tr>\n",
       "    <tr>\n",
       "      <th>95</th>\n",
       "      <td>yug20/react-gltf-models-shoes</td>\n",
       "      <td>JavaScript</td>\n",
       "      <td>![Screenshot from 2022-12-26 18-19-57](https:/...</td>\n",
       "    </tr>\n",
       "    <tr>\n",
       "      <th>96</th>\n",
       "      <td>Kenzothd/Shoedog_Client</td>\n",
       "      <td>TypeScript</td>\n",
       "      <td># Getting Started with Create React App\\n\\nThi...</td>\n",
       "    </tr>\n",
       "    <tr>\n",
       "      <th>97</th>\n",
       "      <td>baby-boomer/CFC-Sports</td>\n",
       "      <td>CSS</td>\n",
       "      <td># CFC-Sports\\nAdded Social media WhatsApp\\n</td>\n",
       "    </tr>\n",
       "  </tbody>\n",
       "</table>\n",
       "<p>98 rows × 3 columns</p>\n",
       "</div>"
      ],
      "text/plain": [
       "                                          repo    language  \\\n",
       "0                                 shoes/shoes4        Ruby   \n",
       "1                          druv5319/Sneaks-API  JavaScript   \n",
       "2                                 shoes/shoes3           C   \n",
       "3                 WebAR-rocks/WebAR.rocks.hand  JavaScript   \n",
       "4   brandontruggles/Selenium-Shoe-Bot-NakedCPH      Python   \n",
       "..                                         ...         ...   \n",
       "93                Kvas1407/ecomm-store-project        HTML   \n",
       "94                           bisofts/kingshoes        None   \n",
       "95               yug20/react-gltf-models-shoes  JavaScript   \n",
       "96                     Kenzothd/Shoedog_Client  TypeScript   \n",
       "97                      baby-boomer/CFC-Sports         CSS   \n",
       "\n",
       "                                      readme_contents  \n",
       "0   # Shoes 4 [![Linux Build Status](https://secur...  \n",
       "1   \\n<p align=\"center\">\\n  \\n<img src=\"https://gi...  \n",
       "2                       \\n    ((( |||_| ///\\ [[[_ ...  \n",
       "3   # JavaScript/WebGL lightweight and robust hand...  \n",
       "4   # Selenium Shoe Bot (DEPRECATED!)\\n\\n**This pr...  \n",
       "..                                                ...  \n",
       "93  # Web Design & Development 1\\n## E-Comm Websto...  \n",
       "94                        # kingshoes.-test.github.io  \n",
       "95  ![Screenshot from 2022-12-26 18-19-57](https:/...  \n",
       "96  # Getting Started with Create React App\\n\\nThi...  \n",
       "97        # CFC-Sports\\nAdded Social media WhatsApp\\n  \n",
       "\n",
       "[98 rows x 3 columns]"
      ]
     },
     "execution_count": 8,
     "metadata": {},
     "output_type": "execute_result"
    }
   ],
   "source": [
    "df"
   ]
  },
  {
   "cell_type": "code",
   "execution_count": null,
   "id": "27217afe",
   "metadata": {},
   "outputs": [],
   "source": []
  },
  {
   "cell_type": "code",
   "execution_count": null,
   "id": "646ca174",
   "metadata": {},
   "outputs": [],
   "source": [
    "df = pd.DataFrame(readme_data)\n",
    "df.head()"
   ]
  },
  {
   "cell_type": "code",
   "execution_count": null,
   "id": "e34aa7fa",
   "metadata": {},
   "outputs": [],
   "source": [
    "# Clean readme_contents column and create new column\n",
    "df['cleaned'] = df['readme_contents'].apply(p.clean_text)"
   ]
  },
  {
   "cell_type": "code",
   "execution_count": null,
   "id": "40376d1b",
   "metadata": {},
   "outputs": [],
   "source": [
    "df.head()"
   ]
  },
  {
   "cell_type": "code",
   "execution_count": null,
   "id": "89f40574",
   "metadata": {},
   "outputs": [],
   "source": [
    "df.language.isna().sum()"
   ]
  },
  {
   "cell_type": "code",
   "execution_count": null,
   "id": "cdc1de1c",
   "metadata": {},
   "outputs": [],
   "source": [
    "df.isna().sum()"
   ]
  },
  {
   "cell_type": "code",
   "execution_count": null,
   "id": "1dfe3df4",
   "metadata": {},
   "outputs": [],
   "source": [
    "# Drop Nulls\n",
    "df = df.dropna()"
   ]
  },
  {
   "cell_type": "code",
   "execution_count": null,
   "id": "6dc108d3",
   "metadata": {},
   "outputs": [],
   "source": [
    "# Language Value counts\n",
    "df.language.value_counts()"
   ]
  },
  {
   "cell_type": "code",
   "execution_count": null,
   "id": "16de845f",
   "metadata": {},
   "outputs": [],
   "source": [
    "#returning all the words in readme_contents individually\n",
    "readme_words = clean_text(' ’.join(df[‘readme_contents’]))\n",
    "# setting the cleaned txt to Series and counting word frequency\n",
    "count = pd.Series(readme_words).value_counts()\n",
    "count"
   ]
  },
  {
   "cell_type": "code",
   "execution_count": null,
   "id": "c217a075",
   "metadata": {},
   "outputs": [],
   "source": [
    "other_langs = ['Java','Dart','SCSS','PHP','Go','C++','Smarty','C','Jupyter Notebook','AppleScript',\n",
    "              'Vue']"
   ]
  },
  {
   "cell_type": "code",
   "execution_count": null,
   "id": "df417f6d",
   "metadata": {},
   "outputs": [],
   "source": [
    "for lang in other_langs:\n",
    "    \n",
    "    df['language'] = df.language.replace(lang,'other')"
   ]
  },
  {
   "cell_type": "code",
   "execution_count": null,
   "id": "ba1c7f2a",
   "metadata": {},
   "outputs": [],
   "source": [
    "df.language.value_counts()"
   ]
  },
  {
   "cell_type": "code",
   "execution_count": null,
   "id": "018b08ea",
   "metadata": {},
   "outputs": [],
   "source": [
    "def get_readme_data():\n",
    "    \n",
    "    '''\n",
    "    Scrapes a variety of news articles. Must create a topic_list variable that contains the \n",
    "    category of the news article. Example: ['business','technology','sports']\n",
    "    '''\n",
    "\n",
    "    # Check if JSON file exists\n",
    "    file = 'readme_data.json'\n",
    "    \n",
    "    if os.path.exists(file):\n",
    "        \n",
    "        with open(file) as f:\n",
    "            \n",
    "            return json.load(f)\n",
    "    \n",
    "    \n",
    "    readme_data = scrape_github_data()\n",
    "    \n",
    "    \n",
    "    # Save into JSON\n",
    "    with open(file, 'w') as f:\n",
    "        \n",
    "        json.dump(readme_data, f)\n",
    "    \n",
    "    \n",
    "    return readme_data"
   ]
  },
  {
   "cell_type": "code",
   "execution_count": null,
   "id": "6301d770",
   "metadata": {},
   "outputs": [],
   "source": [
    "get_readme_data()"
   ]
  },
  {
   "cell_type": "code",
   "execution_count": null,
   "id": "845360d8",
   "metadata": {},
   "outputs": [],
   "source": []
  }
 ],
 "metadata": {
  "kernelspec": {
   "display_name": "Python 3 (ipykernel)",
   "language": "python",
   "name": "python3"
  },
  "language_info": {
   "codemirror_mode": {
    "name": "ipython",
    "version": 3
   },
   "file_extension": ".py",
   "mimetype": "text/x-python",
   "name": "python",
   "nbconvert_exporter": "python",
   "pygments_lexer": "ipython3",
   "version": "3.9.15"
  },
  "toc": {
   "base_numbering": 1,
   "nav_menu": {},
   "number_sections": true,
   "sideBar": true,
   "skip_h1_title": false,
   "title_cell": "Table of Contents",
   "title_sidebar": "Contents",
   "toc_cell": false,
   "toc_position": {},
   "toc_section_display": true,
   "toc_window_display": false
  }
 },
 "nbformat": 4,
 "nbformat_minor": 5
}
