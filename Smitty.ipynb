{
 "cells": [
  {
   "cell_type": "code",
   "execution_count": 12,
   "id": "f5e32ac9",
   "metadata": {},
   "outputs": [],
   "source": [
    "import pandas as pd\n",
    "import re\n",
    "import requests\n",
    "from bs4 import BeautifulSoup\n",
    "import time\n",
    "from env import github_token, github_username\n",
    "import acquire as a\n"
   ]
  },
  {
   "cell_type": "code",
   "execution_count": 2,
   "id": "a6c163ac",
   "metadata": {},
   "outputs": [],
   "source": [
    "pageCount = 15 \n",
    "urlsList = []\n",
    "base = \"https://github.com/search?o=desc&p={}&q=shoes&s=stars&type=Repositories\" #curly braces let you format\n",
    "\n",
    "\n",
    "for x in range(pageCount)[0:]:\n",
    "    urlsList.append(base.format(x))"
   ]
  },
  {
   "cell_type": "code",
   "execution_count": null,
   "id": "1edd014b",
   "metadata": {},
   "outputs": [],
   "source": []
  },
  {
   "cell_type": "code",
   "execution_count": 3,
   "id": "5b66568e",
   "metadata": {},
   "outputs": [
    {
     "data": {
      "text/plain": [
       "['https://github.com/search?o=desc&p=0&q=shoes&s=stars&type=Repositories',\n",
       " 'https://github.com/search?o=desc&p=1&q=shoes&s=stars&type=Repositories',\n",
       " 'https://github.com/search?o=desc&p=2&q=shoes&s=stars&type=Repositories',\n",
       " 'https://github.com/search?o=desc&p=3&q=shoes&s=stars&type=Repositories',\n",
       " 'https://github.com/search?o=desc&p=4&q=shoes&s=stars&type=Repositories',\n",
       " 'https://github.com/search?o=desc&p=5&q=shoes&s=stars&type=Repositories',\n",
       " 'https://github.com/search?o=desc&p=6&q=shoes&s=stars&type=Repositories',\n",
       " 'https://github.com/search?o=desc&p=7&q=shoes&s=stars&type=Repositories',\n",
       " 'https://github.com/search?o=desc&p=8&q=shoes&s=stars&type=Repositories',\n",
       " 'https://github.com/search?o=desc&p=9&q=shoes&s=stars&type=Repositories',\n",
       " 'https://github.com/search?o=desc&p=10&q=shoes&s=stars&type=Repositories',\n",
       " 'https://github.com/search?o=desc&p=11&q=shoes&s=stars&type=Repositories',\n",
       " 'https://github.com/search?o=desc&p=12&q=shoes&s=stars&type=Repositories',\n",
       " 'https://github.com/search?o=desc&p=13&q=shoes&s=stars&type=Repositories',\n",
       " 'https://github.com/search?o=desc&p=14&q=shoes&s=stars&type=Repositories']"
      ]
     },
     "execution_count": 3,
     "metadata": {},
     "output_type": "execute_result"
    }
   ],
   "source": [
    "urlsList"
   ]
  },
  {
   "cell_type": "code",
   "execution_count": 4,
   "id": "6a166f4a",
   "metadata": {},
   "outputs": [],
   "source": [
    "headers = {\"Authorization\": f\"token {github_token}\", \"User-Agent\": github_username}\n",
    "\n",
    "if headers[\"Authorization\"] == \"token \" or headers[\"User-Agent\"] == \"\":\n",
    "    raise Exception(\"You need to follow the instructions marked TODO in this script before trying to use it\")"
   ]
  },
  {
   "cell_type": "code",
   "execution_count": 8,
   "id": "45cf4b2f",
   "metadata": {},
   "outputs": [],
   "source": [
    "def get_repo_links(github_token=github_token, github_username=github_username,\n",
    "                                         topic='shoes', number_of_pages=5):\n",
    "    '''\n",
    "    Takes in a topic, your unique github API token, and your github username as\n",
    "    strings and an interger for the number of pages to query\n",
    "    Returns: list of repositories from GitHub in the form of\n",
    "    '<username>/<repo_name>'\n",
    "    '''\n",
    "    # set URL without page number\n",
    "    url = f'https://github.com/topics/{topic}?&s=stars&page='\n",
    "    # set header for github auth\n",
    "    headers = {\"Authorization\": f\"token {github_token}\",\n",
    "               \"User-Agent\": github_username}\n",
    "    # set empty list for total repos scraped\n",
    "    list_of_repos = []\n",
    "    # for each page in range of provided number\n",
    "    for i in range(1, number_of_pages + 1):\n",
    "        # obtain page data\n",
    "        time.sleep(15)\n",
    "        response = requests.get(url + str(i), headers)\n",
    "        soup = BeautifulSoup(response.content, 'html.parser')\n",
    "        content = soup.find_all('h3')\n",
    "        # set empty list to agg for each page\n",
    "        page_list = []\n",
    "        for repo in content:\n",
    "            # confirms that h3 tag contains repo information\n",
    "            if [re.search(r'(\\S+)', x.text).group(1) for x in repo.find_all('a')] != []:\n",
    "                # returns owner username and repo name\n",
    "                user_name, repo_name = [re.search(r'(\\S+)', x.text)\\\n",
    "                                         .group(1) for x in repo.find_all('a')]\n",
    "                # add to page list for each repo on page\n",
    "                page_list.extend([f'{user_name}/{repo_name}'])\n",
    "        # add new page list into existing list for total repos\n",
    "        list_of_repos.extend(page_list)\n",
    "        print(f'Page {i} Completed')\n",
    "    # saves returned list into .py file for calling in later functions\n",
    "    with open(\"repos.py\", \"w\") as repos:\n",
    "        repos.write(f'REPOS = {list_of_repos}')\n",
    "    return list_of_repos\n",
    "    "
   ]
  },
  {
   "cell_type": "code",
   "execution_count": 9,
   "id": "7b44b996",
   "metadata": {},
   "outputs": [
    {
     "name": "stdout",
     "output_type": "stream",
     "text": [
      "Page 1 Completed\n",
      "Page 2 Completed\n",
      "Page 3 Completed\n",
      "Page 4 Completed\n",
      "Page 5 Completed\n"
     ]
    }
   ],
   "source": [
    "repo_list = get_repo_links()"
   ]
  },
  {
   "cell_type": "code",
   "execution_count": 10,
   "id": "82087bda",
   "metadata": {},
   "outputs": [
    {
     "data": {
      "text/plain": [
       "98"
      ]
     },
     "execution_count": 10,
     "metadata": {},
     "output_type": "execute_result"
    }
   ],
   "source": [
    "len(repo_list)"
   ]
  },
  {
   "cell_type": "code",
   "execution_count": 11,
   "id": "bb672992",
   "metadata": {},
   "outputs": [
    {
     "data": {
      "text/plain": [
       "['shoes/shoes4',\n",
       " 'druv5319/Sneaks-API',\n",
       " 'shoes/shoes3',\n",
       " 'WebAR-rocks/WebAR.rocks.hand',\n",
       " 'brandontruggles/Selenium-Shoe-Bot-NakedCPH',\n",
       " 'dilip-dawadi/shoeStore',\n",
       " 'developer-junaid/Nike-Shoe-Store',\n",
       " 'alisonmonteiro/shoe-size-converter',\n",
       " 'LucaArgentieri/Shoe-Discord-Bot',\n",
       " 'antonjlin/adidas-account-generator',\n",
       " 'Fyko/stockx-gif',\n",
       " 'iissh/TrendStop',\n",
       " 'Hetessy/Shoes-Store-App-UI-Flutter',\n",
       " 'Rhelli/Shoes-Github-API',\n",
       " 'kenmoini/multiverse-of-multicluster-madness',\n",
       " 'aravind2060/Capstone0',\n",
       " 'daxidngyn/stockx-data',\n",
       " 'adityar224/sneakerx',\n",
       " 'fumixia/supreme-api-ts',\n",
       " 'JDsnyke/UP-Flow',\n",
       " 'JordanAssayah/shoe-order',\n",
       " 'amouliom/sneakers',\n",
       " 'harryleevn93/shoes-shop',\n",
       " 'mprabs/Shoe-UI-mockUp',\n",
       " 'MaximKuklin/3D_CenterNet',\n",
       " 'Ohohko/shoes',\n",
       " 'tyrue/3th_Engineering-design2',\n",
       " 'udl/shoesql',\n",
       " 'Nickwang3/GearGuide',\n",
       " 'DanielMafra/desafio-1-papodedev',\n",
       " 'Jolonte/challenge-codelandia-jordan-shoes',\n",
       " 'Spitfire5720/is-the-shoe-for-you-.github.io',\n",
       " 'lucianojunnior17/nike-site',\n",
       " 'KeyulJain/RishitBlogs',\n",
       " 'guilhermepaitax/myboot',\n",
       " 'RobsonVinicius/product-card-hover-animation',\n",
       " 'ZuckyNeeraj/powergeneratingshoes',\n",
       " 'allenlogan/HypeDCWebScraper',\n",
       " 'JulienMousset/Animated-3D-Card',\n",
       " 'SilasRodrigues19/iShoes',\n",
       " 'JohnPetros/rocketshoes',\n",
       " 'trevorblades/ssx',\n",
       " 'Hassanalk12/csa-web-project',\n",
       " 'wekt0r/Calendar',\n",
       " 'JDsnyke/GuptaK',\n",
       " 'monicatvera/e-commerce',\n",
       " 'bisofts/hey-look',\n",
       " 'douglasscaini/rocketshoes',\n",
       " 'dudunog/eshoes-website',\n",
       " 'iMuhammadessa/triplemshoes',\n",
       " 'joshuaanaya/AnayaKicks',\n",
       " 'webmural/moshpit',\n",
       " 'StarAmbients/my-shoes-lifetime-app',\n",
       " 'cgr2134/nikefy',\n",
       " 'AnaisGueyte/JS-ShouldIBuyTheBag',\n",
       " 'febritecno/kalkulator-ruby-desktop',\n",
       " 'WBPBP/preshoes-shoes',\n",
       " 't8rn8r/shoe-hanger',\n",
       " 'BusinessBoomingKickz/Kickz4Dayz',\n",
       " 'jiarongj/Python',\n",
       " 'Selfxplanatoryy/Nike-ca-Unidays-Script',\n",
       " 'bhumill/Shoppy',\n",
       " '716r15/shopoes',\n",
       " 'nardonykolyszyn/simple-editor',\n",
       " 'bhandeystruck/NikeShoesFrontEnd',\n",
       " 'kristiyann/af1-spider',\n",
       " 'asalinasf/nike-card',\n",
       " 'TasnimJahan/assignment2-responsive',\n",
       " 'DxxxxY/eros',\n",
       " 'ecomteck/productdesignapp',\n",
       " 'vsoch/shoes',\n",
       " 'RobsonVinicius/product-card-shoe',\n",
       " 'chrisalxlng/sneakr.',\n",
       " 'JueK3y/Project-TypeError',\n",
       " 'aaronago/kinderfoos',\n",
       " 'millennialdev/Nike-Shoes-eCommerce',\n",
       " 'eLopez6/Semblance',\n",
       " 'rsfrankl/shoe_census_2020',\n",
       " 'asalinasf/nike-page',\n",
       " 'seawolf/rails_cookie_decryptor',\n",
       " 'shoestagram/front-end',\n",
       " 'Equilapi/MEVN---Dashboard-Shoes-Inventary',\n",
       " 'yagoag/shoe-shop',\n",
       " 'UmairShah90/Nike-Shoes',\n",
       " '2002Bishwajeet/shop_app',\n",
       " 'Aaroncye/TEAM-EVO-SPORTS-EMPORIUM',\n",
       " 'robcapell/maxnixon-practice-shoe_mockup',\n",
       " 'AnthonyMichaelc/python-genders',\n",
       " 'Perke1/DumplingKicks',\n",
       " 'sebastianalamina/MyP_2020-1_Proyecto3',\n",
       " 'tcdat96/ShoeFinder',\n",
       " 'thiccsupreme/Shoe-Size-Converter',\n",
       " 'jaydeep-shelake/CardAnimation',\n",
       " 'Kvas1407/ecomm-store-project',\n",
       " 'bisofts/kingshoes',\n",
       " 'yug20/react-gltf-models-shoes',\n",
       " 'Kenzothd/Shoedog_Client',\n",
       " 'baby-boomer/CFC-Sports']"
      ]
     },
     "execution_count": 11,
     "metadata": {},
     "output_type": "execute_result"
    }
   ],
   "source": [
    "repo_list"
   ]
  },
  {
   "cell_type": "code",
   "execution_count": null,
   "id": "5714de12",
   "metadata": {},
   "outputs": [],
   "source": []
  }
 ],
 "metadata": {
  "kernelspec": {
   "display_name": "Python 3 (ipykernel)",
   "language": "python",
   "name": "python3"
  },
  "language_info": {
   "codemirror_mode": {
    "name": "ipython",
    "version": 3
   },
   "file_extension": ".py",
   "mimetype": "text/x-python",
   "name": "python",
   "nbconvert_exporter": "python",
   "pygments_lexer": "ipython3",
   "version": "3.9.13"
  }
 },
 "nbformat": 4,
 "nbformat_minor": 5
}
