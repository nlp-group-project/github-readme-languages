{
 "cells": [
  {
   "cell_type": "markdown",
   "id": "dd92621d-793a-449d-b74b-1479fb33a7d6",
   "metadata": {},
   "source": [
    "# Git Shoes"
   ]
  },
  {
   "cell_type": "markdown",
   "id": "5b574e81-8fcd-4015-b368-69a3b3488264",
   "metadata": {},
   "source": [
    "## Project Goals"
   ]
  },
  {
   "cell_type": "markdown",
   "id": "fb36cf5b-d496-4718-add5-d3799b458e64",
   "metadata": {},
   "source": [
    "- Determine the programming language used in a given GitHub Repository by examining the words used in the readme file.\n",
    "\n",
    "- We honed in specifically on repositories with the word 'shoes' in the name."
   ]
  },
  {
   "cell_type": "markdown",
   "id": "fa91a5c2-b027-4252-a6eb-f6fee66a11eb",
   "metadata": {},
   "source": [
    "## Imports Used"
   ]
  },
  {
   "cell_type": "code",
   "execution_count": 1,
   "id": "0dbb7bba-c3ef-45e3-b3f7-564443b4b124",
   "metadata": {},
   "outputs": [],
   "source": [
    "import numpy as np\n",
    "import pandas as pd\n",
    "import matplotlib.pyplot as plt\n",
    "import seaborn as sns\n",
    "\n",
    "import nltk\n",
    "import re\n",
    "import os\n",
    "import json\n",
    "import requests\n",
    "import unicodedata\n",
    "\n",
    "from bs4 import BeautifulSoup\n",
    "\n",
    "from pprint import pprint\n",
    "from nltk.corpus import stopwords\n",
    "from nltk.tokenize.toktok import ToktokTokenizer\n",
    "from sklearn.feature_extraction.text import CountVectorizer\n",
    "from sklearn.feature_extraction.text import TfidfVectorizer\n",
    "\n",
    "from sklearn.tree import DecisionTreeClassifier, plot_tree\n",
    "from sklearn.ensemble import RandomForestClassifier\n",
    "from sklearn.neighbors import KNeighborsClassifier\n",
    "from sklearn.metrics import classification_report, confusion_matrix, plot_confusion_matrix, recall_score\n",
    "\n",
    "from time import strftime\n",
    "\n",
    "from sklearn.model_selection import train_test_split\n",
    "\n",
    "from wordcloud import WordCloud\n",
    "\n",
    "from env import get_connection\n",
    "import acquire as ac\n",
    "import prepare as prep\n",
    "import explore_functions as ex\n",
    "import modeling as md\n",
    "from acquire import scrape_github_data\n",
    "\n",
    "import warnings\n",
    "warnings.filterwarnings(\"ignore\")\n",
    "\n",
    "seed = 42"
   ]
  },
  {
   "cell_type": "markdown",
   "id": "33a14ded-0b02-4480-90ff-e61ce9c51896",
   "metadata": {},
   "source": [
    "# Acquisition"
   ]
  },
  {
   "cell_type": "markdown",
   "id": "bf2ad43a-ba19-4daf-a75a-c052768e0acc",
   "metadata": {},
   "source": [
    "<div class=\"alert alert-block alert-info\">\n",
    "\n",
    "- We obtained our data through the GitHub api, through the use of many functions within the acquire.py file.\n",
    "\n",
    "- We started with 198 rows in our data, with each row being an individual repository."
   ]
  },
  {
   "cell_type": "code",
   "execution_count": 2,
   "id": "01bad9ba-fa82-496f-bcba-da5dfaffa293",
   "metadata": {},
   "outputs": [
    {
     "data": {
      "text/html": [
       "<div>\n",
       "<style scoped>\n",
       "    .dataframe tbody tr th:only-of-type {\n",
       "        vertical-align: middle;\n",
       "    }\n",
       "\n",
       "    .dataframe tbody tr th {\n",
       "        vertical-align: top;\n",
       "    }\n",
       "\n",
       "    .dataframe thead th {\n",
       "        text-align: right;\n",
       "    }\n",
       "</style>\n",
       "<table border=\"1\" class=\"dataframe\">\n",
       "  <thead>\n",
       "    <tr style=\"text-align: right;\">\n",
       "      <th></th>\n",
       "      <th>repo</th>\n",
       "      <th>language</th>\n",
       "      <th>readme_contents</th>\n",
       "    </tr>\n",
       "  </thead>\n",
       "  <tbody>\n",
       "    <tr>\n",
       "      <th>0</th>\n",
       "      <td>justinmk/vim-sneak</td>\n",
       "      <td>Vim Script</td>\n",
       "      <td>sneak.vim 👟\\n================\\n\\nJump to any l...</td>\n",
       "    </tr>\n",
       "    <tr>\n",
       "      <th>1</th>\n",
       "      <td>google-research-datasets/Objectron</td>\n",
       "      <td>Jupyter Notebook</td>\n",
       "      <td>\\n&lt;div align=\"center\"&gt;\\n\\n# Objectron Dataset\\...</td>\n",
       "    </tr>\n",
       "    <tr>\n",
       "      <th>2</th>\n",
       "      <td>shoes/shoes4</td>\n",
       "      <td>Ruby</td>\n",
       "      <td># Shoes 4 [![Linux Build Status](https://secur...</td>\n",
       "    </tr>\n",
       "    <tr>\n",
       "      <th>3</th>\n",
       "      <td>shoes/shoes-deprecated</td>\n",
       "      <td>C</td>\n",
       "      <td># THIS REPO IS NO LONGER ACTIVE!\\n\\n**Looking ...</td>\n",
       "    </tr>\n",
       "    <tr>\n",
       "      <th>4</th>\n",
       "      <td>filamentgroup/shoestring</td>\n",
       "      <td>JavaScript</td>\n",
       "      <td>:warning: This project is archived and the rep...</td>\n",
       "    </tr>\n",
       "  </tbody>\n",
       "</table>\n",
       "</div>"
      ],
      "text/plain": [
       "                                 repo          language  \\\n",
       "0                  justinmk/vim-sneak        Vim Script   \n",
       "1  google-research-datasets/Objectron  Jupyter Notebook   \n",
       "2                        shoes/shoes4              Ruby   \n",
       "3              shoes/shoes-deprecated                 C   \n",
       "4            filamentgroup/shoestring        JavaScript   \n",
       "\n",
       "                                     readme_contents  \n",
       "0  sneak.vim 👟\\n================\\n\\nJump to any l...  \n",
       "1  \\n<div align=\"center\">\\n\\n# Objectron Dataset\\...  \n",
       "2  # Shoes 4 [![Linux Build Status](https://secur...  \n",
       "3  # THIS REPO IS NO LONGER ACTIVE!\\n\\n**Looking ...  \n",
       "4  :warning: This project is archived and the rep...  "
      ]
     },
     "execution_count": 2,
     "metadata": {},
     "output_type": "execute_result"
    }
   ],
   "source": [
    "# pulling the data from the json file\n",
    "df = pd.read_json('repos.json')\n",
    "\n",
    "df.head()"
   ]
  },
  {
   "cell_type": "markdown",
   "id": "d7530d6c-b451-4e17-b7e1-d0afac5d051f",
   "metadata": {},
   "source": [
    "# Preparation"
   ]
  },
  {
   "cell_type": "markdown",
   "id": "470df088-ac1c-4335-81be-90b7687fa921",
   "metadata": {},
   "source": [
    "<div class=\"alert alert-block alert-info\">\n",
    "\n",
    "In order to make sense of our data, we had to clean it up quite a bit. We started by doing:\n",
    "\n",
    "- There were two repositories that had nothing to do with out chosen topic, shoes, and so we dropped those two.\n",
    "    \n",
    "- There were also 13 rows that had no readme files, and thus those were also dropped.\n",
    "    \n",
    "- Next, we got a value count of the various languages we had, and anything that was beloew 10 we consolidated into one category, 'other'\n",
    "    \n",
    "- After that, we created a series for each unique language as well as got a value count for each\n",
    "    \n",
    "- After creating those other variables for later exploration, we cleaned up our readme entries by normalizing the words to removing accents and other symbols that arent helpful, as well as removing stopwords and making each word its own token to make it easier to work with later.\n",
    "    \n",
    "- Lastly, because we were working with a reasonable amount of data, we both stemmed and lemmatized so that we could determine what works better on our models."
   ]
  },
  {
   "cell_type": "code",
   "execution_count": 4,
   "id": "cc84c0f2-4b73-4057-976b-01d37fe8e24d",
   "metadata": {},
   "outputs": [],
   "source": [
    "df = ex.clean_df(df)"
   ]
  },
  {
   "cell_type": "code",
   "execution_count": 5,
   "id": "63625303-8715-4553-9a64-1ca6f50116e4",
   "metadata": {},
   "outputs": [
    {
     "data": {
      "text/html": [
       "<div>\n",
       "<style scoped>\n",
       "    .dataframe tbody tr th:only-of-type {\n",
       "        vertical-align: middle;\n",
       "    }\n",
       "\n",
       "    .dataframe tbody tr th {\n",
       "        vertical-align: top;\n",
       "    }\n",
       "\n",
       "    .dataframe thead th {\n",
       "        text-align: right;\n",
       "    }\n",
       "</style>\n",
       "<table border=\"1\" class=\"dataframe\">\n",
       "  <thead>\n",
       "    <tr style=\"text-align: right;\">\n",
       "      <th></th>\n",
       "      <th>repo</th>\n",
       "      <th>language</th>\n",
       "      <th>readme_contents</th>\n",
       "    </tr>\n",
       "  </thead>\n",
       "  <tbody>\n",
       "    <tr>\n",
       "      <th>0</th>\n",
       "      <td>justinmk/vim-sneak</td>\n",
       "      <td>other</td>\n",
       "      <td>sneak.vim 👟\\n================\\n\\nJump to any l...</td>\n",
       "    </tr>\n",
       "    <tr>\n",
       "      <th>1</th>\n",
       "      <td>google-research-datasets/Objectron</td>\n",
       "      <td>other</td>\n",
       "      <td>\\n&lt;div align=\"center\"&gt;\\n\\n# Objectron Dataset\\...</td>\n",
       "    </tr>\n",
       "    <tr>\n",
       "      <th>2</th>\n",
       "      <td>shoes/shoes4</td>\n",
       "      <td>ruby</td>\n",
       "      <td># Shoes 4 [![Linux Build Status](https://secur...</td>\n",
       "    </tr>\n",
       "    <tr>\n",
       "      <th>3</th>\n",
       "      <td>shoes/shoes-deprecated</td>\n",
       "      <td>other</td>\n",
       "      <td># THIS REPO IS NO LONGER ACTIVE!\\n\\n**Looking ...</td>\n",
       "    </tr>\n",
       "    <tr>\n",
       "      <th>4</th>\n",
       "      <td>filamentgroup/shoestring</td>\n",
       "      <td>javascript</td>\n",
       "      <td>:warning: This project is archived and the rep...</td>\n",
       "    </tr>\n",
       "  </tbody>\n",
       "</table>\n",
       "</div>"
      ],
      "text/plain": [
       "                                 repo    language  \\\n",
       "0                  justinmk/vim-sneak       other   \n",
       "1  google-research-datasets/Objectron       other   \n",
       "2                        shoes/shoes4        ruby   \n",
       "3              shoes/shoes-deprecated       other   \n",
       "4            filamentgroup/shoestring  javascript   \n",
       "\n",
       "                                     readme_contents  \n",
       "0  sneak.vim 👟\\n================\\n\\nJump to any l...  \n",
       "1  \\n<div align=\"center\">\\n\\n# Objectron Dataset\\...  \n",
       "2  # Shoes 4 [![Linux Build Status](https://secur...  \n",
       "3  # THIS REPO IS NO LONGER ACTIVE!\\n\\n**Looking ...  \n",
       "4  :warning: This project is archived and the rep...  "
      ]
     },
     "execution_count": 5,
     "metadata": {},
     "output_type": "execute_result"
    }
   ],
   "source": [
    "df.head()"
   ]
  },
  {
   "cell_type": "code",
   "execution_count": 6,
   "id": "61f9cf38-831b-4407-925b-93714884db96",
   "metadata": {},
   "outputs": [
    {
     "data": {
      "text/html": [
       "<div>\n",
       "<style scoped>\n",
       "    .dataframe tbody tr th:only-of-type {\n",
       "        vertical-align: middle;\n",
       "    }\n",
       "\n",
       "    .dataframe tbody tr th {\n",
       "        vertical-align: top;\n",
       "    }\n",
       "\n",
       "    .dataframe thead th {\n",
       "        text-align: right;\n",
       "    }\n",
       "</style>\n",
       "<table border=\"1\" class=\"dataframe\">\n",
       "  <thead>\n",
       "    <tr style=\"text-align: right;\">\n",
       "      <th></th>\n",
       "      <th>other</th>\n",
       "      <th>javascript</th>\n",
       "      <th>html</th>\n",
       "      <th>dart</th>\n",
       "      <th>ruby</th>\n",
       "      <th>python</th>\n",
       "      <th>all_counts</th>\n",
       "    </tr>\n",
       "  </thead>\n",
       "  <tbody>\n",
       "    <tr>\n",
       "      <th>product</th>\n",
       "      <td>0</td>\n",
       "      <td>0</td>\n",
       "      <td>0</td>\n",
       "      <td>0</td>\n",
       "      <td>0</td>\n",
       "      <td>0</td>\n",
       "      <td>279</td>\n",
       "    </tr>\n",
       "    <tr>\n",
       "      <th>user</th>\n",
       "      <td>0</td>\n",
       "      <td>0</td>\n",
       "      <td>0</td>\n",
       "      <td>0</td>\n",
       "      <td>0</td>\n",
       "      <td>0</td>\n",
       "      <td>260</td>\n",
       "    </tr>\n",
       "    <tr>\n",
       "      <th>file</th>\n",
       "      <td>0</td>\n",
       "      <td>0</td>\n",
       "      <td>0</td>\n",
       "      <td>0</td>\n",
       "      <td>0</td>\n",
       "      <td>0</td>\n",
       "      <td>224</td>\n",
       "    </tr>\n",
       "    <tr>\n",
       "      <th>page</th>\n",
       "      <td>0</td>\n",
       "      <td>0</td>\n",
       "      <td>0</td>\n",
       "      <td>0</td>\n",
       "      <td>0</td>\n",
       "      <td>0</td>\n",
       "      <td>209</td>\n",
       "    </tr>\n",
       "    <tr>\n",
       "      <th>install</th>\n",
       "      <td>0</td>\n",
       "      <td>0</td>\n",
       "      <td>0</td>\n",
       "      <td>0</td>\n",
       "      <td>0</td>\n",
       "      <td>0</td>\n",
       "      <td>207</td>\n",
       "    </tr>\n",
       "  </tbody>\n",
       "</table>\n",
       "</div>"
      ],
      "text/plain": [
       "         other  javascript  html  dart  ruby  python  all_counts\n",
       "product      0           0     0     0     0       0         279\n",
       "user         0           0     0     0     0       0         260\n",
       "file         0           0     0     0     0       0         224\n",
       "page         0           0     0     0     0       0         209\n",
       "install      0           0     0     0     0       0         207"
      ]
     },
     "execution_count": 6,
     "metadata": {},
     "output_type": "execute_result"
    }
   ],
   "source": [
    "ex.word_counts(df).head()"
   ]
  },
  {
   "cell_type": "code",
   "execution_count": 7,
   "id": "9fff4aca-c2f6-4ac8-82e0-bc6a3dbaaaf2",
   "metadata": {},
   "outputs": [
    {
     "data": {
      "text/html": [
       "<div>\n",
       "<style scoped>\n",
       "    .dataframe tbody tr th:only-of-type {\n",
       "        vertical-align: middle;\n",
       "    }\n",
       "\n",
       "    .dataframe tbody tr th {\n",
       "        vertical-align: top;\n",
       "    }\n",
       "\n",
       "    .dataframe thead th {\n",
       "        text-align: right;\n",
       "    }\n",
       "</style>\n",
       "<table border=\"1\" class=\"dataframe\">\n",
       "  <thead>\n",
       "    <tr style=\"text-align: right;\">\n",
       "      <th></th>\n",
       "      <th>repo</th>\n",
       "      <th>readme_contents</th>\n",
       "      <th>clean</th>\n",
       "      <th>stemmed</th>\n",
       "      <th>lemmatized</th>\n",
       "    </tr>\n",
       "  </thead>\n",
       "  <tbody>\n",
       "    <tr>\n",
       "      <th>0</th>\n",
       "      <td>justinmk/vim-sneak</td>\n",
       "      <td>sneak.vim 👟\\n================\\n\\nJump to any l...</td>\n",
       "      <td>sneakvim jump location specified two character...</td>\n",
       "      <td>sneakvim jump locat specifi two charact sneak ...</td>\n",
       "      <td>sneakvim jump location specified two character...</td>\n",
       "    </tr>\n",
       "    <tr>\n",
       "      <th>1</th>\n",
       "      <td>google-research-datasets/Objectron</td>\n",
       "      <td>\\n&lt;div align=\"center\"&gt;\\n\\n# Objectron Dataset\\...</td>\n",
       "      <td>div aligncenter objectron dataset objectron da...</td>\n",
       "      <td>div aligncent objectron dataset objectron data...</td>\n",
       "      <td>div aligncenter objectron dataset objectron da...</td>\n",
       "    </tr>\n",
       "    <tr>\n",
       "      <th>2</th>\n",
       "      <td>shoes/shoes4</td>\n",
       "      <td># Shoes 4 [![Linux Build Status](https://secur...</td>\n",
       "      <td>shoes 4 linux build statushttpssecuretraviscio...</td>\n",
       "      <td>shoe 4 linux build statushttpssecuretraviscior...</td>\n",
       "      <td>shoe 4 linux build statushttpssecuretraviscior...</td>\n",
       "    </tr>\n",
       "    <tr>\n",
       "      <th>3</th>\n",
       "      <td>shoes/shoes-deprecated</td>\n",
       "      <td># THIS REPO IS NO LONGER ACTIVE!\\n\\n**Looking ...</td>\n",
       "      <td>repo longer active looking continuing shoes 3 ...</td>\n",
       "      <td>repo longer activ look continu shoe 3 support ...</td>\n",
       "      <td>repo longer active looking continuing shoe 3 s...</td>\n",
       "    </tr>\n",
       "    <tr>\n",
       "      <th>4</th>\n",
       "      <td>filamentgroup/shoestring</td>\n",
       "      <td>:warning: This project is archived and the rep...</td>\n",
       "      <td>warning project archived repository longer mai...</td>\n",
       "      <td>warn project archiv repositori longer maintain...</td>\n",
       "      <td>warning project archived repository longer mai...</td>\n",
       "    </tr>\n",
       "    <tr>\n",
       "      <th>...</th>\n",
       "      <td>...</td>\n",
       "      <td>...</td>\n",
       "      <td>...</td>\n",
       "      <td>...</td>\n",
       "      <td>...</td>\n",
       "    </tr>\n",
       "    <tr>\n",
       "      <th>191</th>\n",
       "      <td>flutter-devs/flutter_ecommerce_shoes</td>\n",
       "      <td># Flutter eCommerce UI Demo\\n\\nA sample applic...</td>\n",
       "      <td>flutter ecommerce ui demo sample application s...</td>\n",
       "      <td>flutter ecommerc ui demo sampl applic show eco...</td>\n",
       "      <td>flutter ecommerce ui demo sample application s...</td>\n",
       "    </tr>\n",
       "    <tr>\n",
       "      <th>194</th>\n",
       "      <td>kaushiksheel/ShoesStore-Frontend-Typescript</td>\n",
       "      <td># Shoe Store Ecommerce Application\\n\\n## Intro...</td>\n",
       "      <td>shoe store ecommerce application introduction ...</td>\n",
       "      <td>shoe store ecommerc applic introduct ecommerc ...</td>\n",
       "      <td>shoe store ecommerce application introduction ...</td>\n",
       "    </tr>\n",
       "    <tr>\n",
       "      <th>195</th>\n",
       "      <td>devyn/shoes-web</td>\n",
       "      <td>== Welcome to Radiant\\n\\nRadiant is a no-fluff...</td>\n",
       "      <td>welcome radiant radiant nofluff open source co...</td>\n",
       "      <td>welcom radiant radiant nofluff open sourc cont...</td>\n",
       "      <td>welcome radiant radiant nofluff open source co...</td>\n",
       "    </tr>\n",
       "    <tr>\n",
       "      <th>196</th>\n",
       "      <td>mjokic/adidas_carter</td>\n",
       "      <td># adidas_carter\\n\\nAdidas carter helps you car...</td>\n",
       "      <td>adidas_carter adidas carter helps cart shoes a...</td>\n",
       "      <td>adidas_cart adida carter help cart shoe adida ...</td>\n",
       "      <td>adidas_carter adidas carter help cart shoe adi...</td>\n",
       "    </tr>\n",
       "    <tr>\n",
       "      <th>197</th>\n",
       "      <td>dissyulina/shoesandmore</td>\n",
       "      <td># **Shoes And More**\\n![Shoes and More website...</td>\n",
       "      <td>shoes shoes website variouse devicesreadmetest...</td>\n",
       "      <td>shoe shoe websit various devicesreadmetestingf...</td>\n",
       "      <td>shoe shoe website variouse devicesreadmetestin...</td>\n",
       "    </tr>\n",
       "  </tbody>\n",
       "</table>\n",
       "<p>183 rows × 5 columns</p>\n",
       "</div>"
      ],
      "text/plain": [
       "                                            repo  \\\n",
       "0                             justinmk/vim-sneak   \n",
       "1             google-research-datasets/Objectron   \n",
       "2                                   shoes/shoes4   \n",
       "3                         shoes/shoes-deprecated   \n",
       "4                       filamentgroup/shoestring   \n",
       "..                                           ...   \n",
       "191         flutter-devs/flutter_ecommerce_shoes   \n",
       "194  kaushiksheel/ShoesStore-Frontend-Typescript   \n",
       "195                              devyn/shoes-web   \n",
       "196                         mjokic/adidas_carter   \n",
       "197                      dissyulina/shoesandmore   \n",
       "\n",
       "                                       readme_contents  \\\n",
       "0    sneak.vim 👟\\n================\\n\\nJump to any l...   \n",
       "1    \\n<div align=\"center\">\\n\\n# Objectron Dataset\\...   \n",
       "2    # Shoes 4 [![Linux Build Status](https://secur...   \n",
       "3    # THIS REPO IS NO LONGER ACTIVE!\\n\\n**Looking ...   \n",
       "4    :warning: This project is archived and the rep...   \n",
       "..                                                 ...   \n",
       "191  # Flutter eCommerce UI Demo\\n\\nA sample applic...   \n",
       "194  # Shoe Store Ecommerce Application\\n\\n## Intro...   \n",
       "195  == Welcome to Radiant\\n\\nRadiant is a no-fluff...   \n",
       "196  # adidas_carter\\n\\nAdidas carter helps you car...   \n",
       "197  # **Shoes And More**\\n![Shoes and More website...   \n",
       "\n",
       "                                                 clean  \\\n",
       "0    sneakvim jump location specified two character...   \n",
       "1    div aligncenter objectron dataset objectron da...   \n",
       "2    shoes 4 linux build statushttpssecuretraviscio...   \n",
       "3    repo longer active looking continuing shoes 3 ...   \n",
       "4    warning project archived repository longer mai...   \n",
       "..                                                 ...   \n",
       "191  flutter ecommerce ui demo sample application s...   \n",
       "194  shoe store ecommerce application introduction ...   \n",
       "195  welcome radiant radiant nofluff open source co...   \n",
       "196  adidas_carter adidas carter helps cart shoes a...   \n",
       "197  shoes shoes website variouse devicesreadmetest...   \n",
       "\n",
       "                                               stemmed  \\\n",
       "0    sneakvim jump locat specifi two charact sneak ...   \n",
       "1    div aligncent objectron dataset objectron data...   \n",
       "2    shoe 4 linux build statushttpssecuretraviscior...   \n",
       "3    repo longer activ look continu shoe 3 support ...   \n",
       "4    warn project archiv repositori longer maintain...   \n",
       "..                                                 ...   \n",
       "191  flutter ecommerc ui demo sampl applic show eco...   \n",
       "194  shoe store ecommerc applic introduct ecommerc ...   \n",
       "195  welcom radiant radiant nofluff open sourc cont...   \n",
       "196  adidas_cart adida carter help cart shoe adida ...   \n",
       "197  shoe shoe websit various devicesreadmetestingf...   \n",
       "\n",
       "                                            lemmatized  \n",
       "0    sneakvim jump location specified two character...  \n",
       "1    div aligncenter objectron dataset objectron da...  \n",
       "2    shoe 4 linux build statushttpssecuretraviscior...  \n",
       "3    repo longer active looking continuing shoe 3 s...  \n",
       "4    warning project archived repository longer mai...  \n",
       "..                                                 ...  \n",
       "191  flutter ecommerce ui demo sample application s...  \n",
       "194  shoe store ecommerce application introduction ...  \n",
       "195  welcome radiant radiant nofluff open source co...  \n",
       "196  adidas_carter adidas carter help cart shoe adi...  \n",
       "197  shoe shoe website variouse devicesreadmetestin...  \n",
       "\n",
       "[183 rows x 5 columns]"
      ]
     },
     "execution_count": 7,
     "metadata": {},
     "output_type": "execute_result"
    }
   ],
   "source": [
    "prep.prep_article_data(df, 'readme_contents')"
   ]
  },
  {
   "cell_type": "code",
   "execution_count": 8,
   "id": "63c8be79-e590-43d4-8a4f-5be046bcd09e",
   "metadata": {},
   "outputs": [
    {
     "data": {
      "text/html": [
       "<div>\n",
       "<style scoped>\n",
       "    .dataframe tbody tr th:only-of-type {\n",
       "        vertical-align: middle;\n",
       "    }\n",
       "\n",
       "    .dataframe tbody tr th {\n",
       "        vertical-align: top;\n",
       "    }\n",
       "\n",
       "    .dataframe thead th {\n",
       "        text-align: right;\n",
       "    }\n",
       "</style>\n",
       "<table border=\"1\" class=\"dataframe\">\n",
       "  <thead>\n",
       "    <tr style=\"text-align: right;\">\n",
       "      <th></th>\n",
       "      <th>repo</th>\n",
       "      <th>language</th>\n",
       "      <th>readme_contents</th>\n",
       "      <th>clean</th>\n",
       "      <th>stemmed</th>\n",
       "      <th>lemmatized</th>\n",
       "    </tr>\n",
       "  </thead>\n",
       "  <tbody>\n",
       "    <tr>\n",
       "      <th>0</th>\n",
       "      <td>justinmk/vim-sneak</td>\n",
       "      <td>other</td>\n",
       "      <td>sneak.vim 👟\\n================\\n\\nJump to any l...</td>\n",
       "      <td>sneakvim jump location specified two character...</td>\n",
       "      <td>sneakvim jump locat specifi two charact sneak ...</td>\n",
       "      <td>sneakvim jump location specified two character...</td>\n",
       "    </tr>\n",
       "    <tr>\n",
       "      <th>1</th>\n",
       "      <td>google-research-datasets/Objectron</td>\n",
       "      <td>other</td>\n",
       "      <td>\\n&lt;div align=\"center\"&gt;\\n\\n# Objectron Dataset\\...</td>\n",
       "      <td>div aligncenter objectron dataset objectron da...</td>\n",
       "      <td>div aligncent objectron dataset objectron data...</td>\n",
       "      <td>div aligncenter objectron dataset objectron da...</td>\n",
       "    </tr>\n",
       "    <tr>\n",
       "      <th>2</th>\n",
       "      <td>shoes/shoes4</td>\n",
       "      <td>ruby</td>\n",
       "      <td># Shoes 4 [![Linux Build Status](https://secur...</td>\n",
       "      <td>shoes 4 linux build statushttpssecuretraviscio...</td>\n",
       "      <td>shoe 4 linux build statushttpssecuretraviscior...</td>\n",
       "      <td>shoe 4 linux build statushttpssecuretraviscior...</td>\n",
       "    </tr>\n",
       "    <tr>\n",
       "      <th>3</th>\n",
       "      <td>shoes/shoes-deprecated</td>\n",
       "      <td>other</td>\n",
       "      <td># THIS REPO IS NO LONGER ACTIVE!\\n\\n**Looking ...</td>\n",
       "      <td>repo longer active looking continuing shoes 3 ...</td>\n",
       "      <td>repo longer activ look continu shoe 3 support ...</td>\n",
       "      <td>repo longer active looking continuing shoe 3 s...</td>\n",
       "    </tr>\n",
       "    <tr>\n",
       "      <th>4</th>\n",
       "      <td>filamentgroup/shoestring</td>\n",
       "      <td>javascript</td>\n",
       "      <td>:warning: This project is archived and the rep...</td>\n",
       "      <td>warning project archived repository longer mai...</td>\n",
       "      <td>warn project archiv repositori longer maintain...</td>\n",
       "      <td>warning project archived repository longer mai...</td>\n",
       "    </tr>\n",
       "  </tbody>\n",
       "</table>\n",
       "</div>"
      ],
      "text/plain": [
       "                                 repo    language  \\\n",
       "0                  justinmk/vim-sneak       other   \n",
       "1  google-research-datasets/Objectron       other   \n",
       "2                        shoes/shoes4        ruby   \n",
       "3              shoes/shoes-deprecated       other   \n",
       "4            filamentgroup/shoestring  javascript   \n",
       "\n",
       "                                     readme_contents  \\\n",
       "0  sneak.vim 👟\\n================\\n\\nJump to any l...   \n",
       "1  \\n<div align=\"center\">\\n\\n# Objectron Dataset\\...   \n",
       "2  # Shoes 4 [![Linux Build Status](https://secur...   \n",
       "3  # THIS REPO IS NO LONGER ACTIVE!\\n\\n**Looking ...   \n",
       "4  :warning: This project is archived and the rep...   \n",
       "\n",
       "                                               clean  \\\n",
       "0  sneakvim jump location specified two character...   \n",
       "1  div aligncenter objectron dataset objectron da...   \n",
       "2  shoes 4 linux build statushttpssecuretraviscio...   \n",
       "3  repo longer active looking continuing shoes 3 ...   \n",
       "4  warning project archived repository longer mai...   \n",
       "\n",
       "                                             stemmed  \\\n",
       "0  sneakvim jump locat specifi two charact sneak ...   \n",
       "1  div aligncent objectron dataset objectron data...   \n",
       "2  shoe 4 linux build statushttpssecuretraviscior...   \n",
       "3  repo longer activ look continu shoe 3 support ...   \n",
       "4  warn project archiv repositori longer maintain...   \n",
       "\n",
       "                                          lemmatized  \n",
       "0  sneakvim jump location specified two character...  \n",
       "1  div aligncenter objectron dataset objectron da...  \n",
       "2  shoe 4 linux build statushttpssecuretraviscior...  \n",
       "3  repo longer active looking continuing shoe 3 s...  \n",
       "4  warning project archived repository longer mai...  "
      ]
     },
     "execution_count": 8,
     "metadata": {},
     "output_type": "execute_result"
    }
   ],
   "source": [
    "df.head()"
   ]
  },
  {
   "cell_type": "markdown",
   "id": "dec7d851-4bfa-466a-b360-56b6b5e6332f",
   "metadata": {
    "tags": []
   },
   "source": [
    "# Exploration"
   ]
  },
  {
   "cell_type": "code",
   "execution_count": null,
   "id": "0d3c3c3b-cd53-4880-abf5-bf886cfca08e",
   "metadata": {},
   "outputs": [],
   "source": []
  },
  {
   "cell_type": "markdown",
   "id": "eee87b7b-31ca-4e5b-a407-dc8c3af0aaf7",
   "metadata": {},
   "source": [
    "# Modeling"
   ]
  },
  {
   "cell_type": "markdown",
   "id": "72898fb2-2c62-43e7-9f44-c63d646fbb5a",
   "metadata": {},
   "source": []
  },
  {
   "cell_type": "code",
   "execution_count": null,
   "id": "989ab2da-c52f-4512-91f1-31fe819f5dc2",
   "metadata": {},
   "outputs": [],
   "source": [
    "train, validate, test = split_train_test(df)\n",
    "\n",
    "train.shape, validate.shape, test.shape"
   ]
  },
  {
   "cell_type": "code",
   "execution_count": null,
   "id": "cbbd0844-7d27-4618-a933-65409b3df349",
   "metadata": {},
   "outputs": [],
   "source": [
    "X_train, y_train, X_validate, y_validate, X_test, y_test = xy_train(train, validate, test, 'language')"
   ]
  },
  {
   "cell_type": "code",
   "execution_count": null,
   "id": "1386fc7e-450a-4990-8e36-306af47a5744",
   "metadata": {},
   "outputs": [],
   "source": [
    "X_train.head(1)"
   ]
  },
  {
   "cell_type": "code",
   "execution_count": null,
   "id": "450387a8-2128-4235-bcd0-6f3b9f13ec4d",
   "metadata": {},
   "outputs": [],
   "source": [
    "#creating our baseline accuracy\n",
    "df['baseline'] = df['language'].value_counts().idxmax()\n",
    "\n",
    "print((df['language'] == df['baseline']).mean())"
   ]
  },
  {
   "cell_type": "code",
   "execution_count": null,
   "id": "f9bc98c8-e2d8-4b22-9a8b-5c994c80a8aa",
   "metadata": {},
   "outputs": [],
   "source": [
    "md.random_forest(X_train['stemmed'], y_train, X_validate['stemmed'], y_validate)"
   ]
  },
  {
   "cell_type": "code",
   "execution_count": null,
   "id": "39416da5-054b-44dc-9bf8-1bd993ba79de",
   "metadata": {},
   "outputs": [],
   "source": [
    "md.random_forest(X_train['lemmatized'], y_train, X_validate['lemmatized'], y_validate)"
   ]
  },
  {
   "cell_type": "code",
   "execution_count": null,
   "id": "f62aa8fc-8657-40dd-8e75-5c53cc01f0e9",
   "metadata": {},
   "outputs": [],
   "source": []
  },
  {
   "cell_type": "code",
   "execution_count": null,
   "id": "29585825-0769-41e9-8dc9-9322614c064e",
   "metadata": {},
   "outputs": [],
   "source": [
    "md.dec_tree(X_train['stemmed'], y_train, X_validate['stemmed'], y_validate)"
   ]
  },
  {
   "cell_type": "code",
   "execution_count": null,
   "id": "b49468ba-dcad-44e5-b54c-372873f3a3e7",
   "metadata": {},
   "outputs": [],
   "source": [
    "md.dec_tree(X_train['lemmatized'], y_train, X_validate['lemmatized'], y_validate)"
   ]
  },
  {
   "cell_type": "code",
   "execution_count": null,
   "id": "048c961c-1de9-472c-9ed1-392edd53ed50",
   "metadata": {},
   "outputs": [],
   "source": []
  },
  {
   "cell_type": "code",
   "execution_count": null,
   "id": "0c239c07-f359-484e-9e7c-f4d4fb99c677",
   "metadata": {},
   "outputs": [],
   "source": [
    "md.knn(X_train['stemmed'], y_train, X_validate['stemmed'], y_validate)"
   ]
  },
  {
   "cell_type": "code",
   "execution_count": null,
   "id": "81f45b3e-befb-4385-88e2-703f861f6cf1",
   "metadata": {},
   "outputs": [],
   "source": [
    "md.knn(X_train['lemmatized'], y_train, X_validate['lemmatized'], y_validate)"
   ]
  },
  {
   "cell_type": "code",
   "execution_count": null,
   "id": "bc29a734-7fe4-4e09-a3d9-7d8182ef1fd0",
   "metadata": {},
   "outputs": [],
   "source": []
  },
  {
   "cell_type": "code",
   "execution_count": null,
   "id": "a435b295-5328-49b5-b437-c389244bed95",
   "metadata": {},
   "outputs": [],
   "source": [
    "test_accuracy(X_train['stemmed'], y_train, X_validate['stemmed'], y_validate, X_test['stemmed'], y_test)"
   ]
  },
  {
   "cell_type": "markdown",
   "id": "faebee2a-f7d4-4ca7-b689-e7e500ecc3eb",
   "metadata": {},
   "source": []
  },
  {
   "cell_type": "markdown",
   "id": "2b739004-cb7c-45c9-822c-49efc40a87b7",
   "metadata": {},
   "source": [
    "## Modeling Conclusions"
   ]
  },
  {
   "cell_type": "markdown",
   "id": "be8f869f-556c-4550-95bf-2262a45aa9a6",
   "metadata": {},
   "source": [
    "## Summary "
   ]
  },
  {
   "cell_type": "code",
   "execution_count": null,
   "id": "4d1a770c-46df-4f50-9d50-6f01a93d29c1",
   "metadata": {},
   "outputs": [],
   "source": []
  },
  {
   "cell_type": "markdown",
   "id": "99be9aa7-f053-4513-be25-d22c11b3ca1f",
   "metadata": {},
   "source": [
    "## Recommendations"
   ]
  },
  {
   "cell_type": "code",
   "execution_count": null,
   "id": "8dfec7c8-99c2-4d0f-8321-809c62be3535",
   "metadata": {},
   "outputs": [],
   "source": []
  },
  {
   "cell_type": "markdown",
   "id": "60c1ebe5-8535-40dc-a30c-2095fccfe2ee",
   "metadata": {},
   "source": [
    "## Next Steps"
   ]
  },
  {
   "cell_type": "code",
   "execution_count": null,
   "id": "071f121b-760f-4449-a2b9-ab598a61f75d",
   "metadata": {},
   "outputs": [],
   "source": []
  }
 ],
 "metadata": {
  "kernelspec": {
   "display_name": "Python 3 (ipykernel)",
   "language": "python",
   "name": "python3"
  },
  "language_info": {
   "codemirror_mode": {
    "name": "ipython",
    "version": 3
   },
   "file_extension": ".py",
   "mimetype": "text/x-python",
   "name": "python",
   "nbconvert_exporter": "python",
   "pygments_lexer": "ipython3",
   "version": "3.9.13"
  }
 },
 "nbformat": 4,
 "nbformat_minor": 5
}
