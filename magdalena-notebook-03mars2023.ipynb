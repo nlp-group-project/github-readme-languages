{
 "cells": [
  {
   "cell_type": "markdown",
   "id": "97d4d763",
   "metadata": {},
   "source": [
    "## Magdalena's Github Programming Language-Prediction Project\n",
    "\n",
    "03 March 2023"
   ]
  },
  {
   "cell_type": "code",
   "execution_count": 1,
   "id": "e7a0af9e",
   "metadata": {},
   "outputs": [],
   "source": [
    "#imports\n",
    "\n",
    "import pandas as pd\n",
    "import requests\n",
    "\n",
    "import acquire as a\n",
    "import prepare as p\n",
    "\n",
    "from bs4 import BeautifulSoup\n",
    "\n",
    "import time\n",
    "import env\n",
    "\n",
    "from env import github_token, github_username\n",
    "\n",
    "\n",
    "import re\n",
    "import unicodedata\n",
    "import nltk\n",
    "\n",
    "import matplotlib.pyplot as plt\n",
    "import seaborn as sns\n",
    "\n",
    "\n",
    "from wordcloud import WordCloud\n",
    "from nltk.corpus import stopwords\n"
   ]
  },
  {
   "cell_type": "code",
   "execution_count": 2,
   "id": "7f1e200d",
   "metadata": {},
   "outputs": [],
   "source": [
    "headers = {\"Authorization\": f\"token {env.github_token}\", \"User-Agent\":{env.github_username}}\n"
   ]
  },
  {
   "cell_type": "code",
   "execution_count": 3,
   "id": "12522279",
   "metadata": {},
   "outputs": [],
   "source": [
    "url = 'https://github.com/search?o=desc&q=shoes&s=stars&type=Repositories'\n",
    "response = requests.get(url)\n",
    "\n",
    "# we get back html as the response"
   ]
  },
  {
   "cell_type": "code",
   "execution_count": 4,
   "id": "f1554847",
   "metadata": {},
   "outputs": [],
   "source": [
    "soup = BeautifulSoup(response.content, 'html.parser')\n"
   ]
  },
  {
   "cell_type": "code",
   "execution_count": 5,
   "id": "a4053cc7",
   "metadata": {},
   "outputs": [],
   "source": [
    "list_o_elements = soup.find_all('a')"
   ]
  },
  {
   "cell_type": "code",
   "execution_count": null,
   "id": "7184a4b0",
   "metadata": {},
   "outputs": [],
   "source": []
  },
  {
   "cell_type": "code",
   "execution_count": 6,
   "id": "a3b84622",
   "metadata": {},
   "outputs": [],
   "source": [
    "# for loop to get githug urls\n",
    "\n",
    "pageCount = 15\n",
    "urlsList = []\n",
    "\n",
    "base = 'https://github.com/search?o=desc&p={}&q=shoes&s=stars&type=Repositories' #curly braces let you format\n",
    "\n",
    "for x in range(pageCount)[0:]:\n",
    "    urlsList.append(base.format(x))"
   ]
  },
  {
   "cell_type": "code",
   "execution_count": 7,
   "id": "89be547a",
   "metadata": {},
   "outputs": [],
   "source": [
    "# urlsList"
   ]
  },
  {
   "cell_type": "code",
   "execution_count": 8,
   "id": "ff7160dd",
   "metadata": {},
   "outputs": [],
   "source": [
    "def scrape_one_page(topic):\n",
    "    '''\n",
    "    This function will, given a topic on the 'inshorts' news website, scrape the first page of articles within that category and put that data into a json file.\n",
    "    '''\n",
    "    base_url = 'https://inshorts.com/en/read/'\n",
    "    \n",
    "    response = get(base_url + topic)\n",
    "    \n",
    "    soup = BeautifulSoup(response.content, 'html.parser')\n",
    "    \n",
    "    titles = soup.find_all('span', itemprop='headline')\n",
    "    \n",
    "    summaries = soup.find_all('div', itemprop='articleBody')\n",
    "    \n",
    "    summary_list = []\n",
    "    \n",
    "    for i in range(len(titles)):\n",
    "        \n",
    "        temp_dict = {'category': topic,\n",
    "                     'title': titles[i].text,\n",
    "                     'content': summaries[i].text}\n",
    "        \n",
    "        summary_list.append(temp_dict)\n",
    "        \n",
    "    return summary_list"
   ]
  },
  {
   "cell_type": "code",
   "execution_count": 9,
   "id": "999b7cb4",
   "metadata": {
    "scrolled": true
   },
   "outputs": [],
   "source": [
    "# list200 = []\n",
    "\n",
    "# for i in urlsList:\n",
    "#     response = requests.get(i)\n",
    "#     time.sleep(15)\n",
    "#     list200.append(response)"
   ]
  },
  {
   "cell_type": "code",
   "execution_count": 10,
   "id": "2ad427f6",
   "metadata": {},
   "outputs": [],
   "source": [
    "# unnecesary, but working, function\n",
    "\n",
    "# for url in urlsList:\n",
    "#     time.sleep(1)\n",
    "    \n",
    "#     def github_api_request(url: str):\n",
    "        \n",
    "#         response = requests.get(url, headers = a.headers)\n",
    "#         response_data = response.json()\n",
    "        \n",
    "#         if response.status_code != 200:\n",
    "#             raise Exception(\n",
    "#                 f\"Error response from github api! status code: {response.status_code}, \"\n",
    "#                 f\"response: {json.dumps(response_data)}\")\n",
    "#             x\n",
    "#         return response_data\n"
   ]
  },
  {
   "cell_type": "code",
   "execution_count": 11,
   "id": "350dbae0",
   "metadata": {},
   "outputs": [],
   "source": [
    "# github_api_request(urlsList)"
   ]
  },
  {
   "cell_type": "code",
   "execution_count": 12,
   "id": "387cb952",
   "metadata": {},
   "outputs": [],
   "source": [
    "\n",
    "\n",
    "def get_repo_links(github_token = github_token, github_username = github_username,\n",
    "                                         topic = 'shoes', number_of_pages = 13):\n",
    "    \n",
    "    '''\n",
    "    Takes in a topic, your unique github API token, and your github username as\n",
    "    strings and an interger for the number of pages to query\n",
    "    Returns: list of repositories from GitHub in the form of\n",
    "    '<username>/<repo_name>'\n",
    "    '''\n",
    "    \n",
    "    # set URL without page number\n",
    "    url = f'https://github.com/topics/{topic}?&s=stars&page='\n",
    "    \n",
    "    # set header for github auth\n",
    "    headers = {\"Authorization\": f\"token {env.github_token}\",\n",
    "               \"User-Agent\": env.github_username}\n",
    "    \n",
    "    # set empty list for total repos scraped\n",
    "    list_of_repos = []\n",
    "    \n",
    "    # for each page in range of provided number\n",
    "    for i in range(1, number_of_pages + 1):\n",
    "        \n",
    "        # obtain page data\n",
    "        response = requests.get(url + str(i), headers)\n",
    "        soup = BeautifulSoup(response.content, 'html.parser')\n",
    "        content = soup.find_all('h3')\n",
    "        \n",
    "        # set empty list to agg for each page\n",
    "        page_list = []\n",
    "        for repo in content:\n",
    "            # confirms that h3 tag contains repo information\n",
    "            if [re.search(r'(\\S+)', x.text).group(1) for x in repo.find_all('a')] != []:\n",
    "                \n",
    "                # returns owner username and repo name\n",
    "                user_name, repo_name = [re.search(r'(\\S+)', x.text)\\\n",
    "                                         .group(1) for x in repo.find_all('a')]\n",
    "                \n",
    "                # add to page list for each repo on page\n",
    "                page_list.extend([f'{user_name}/{repo_name}'])\n",
    "                \n",
    "        # add new page list into existing list for total repos\n",
    "        list_of_repos.extend(page_list)\n",
    "        print(f'Page {i} Completed')\n",
    "        \n",
    "    # saves returned list into .py file for calling in later functions\n",
    "    with open(\"repos.py\", \"w\") as repos:\n",
    "        repos.write(f'REPOS = {list_of_repos}')\n",
    "        \n",
    "    return list_of_repos"
   ]
  },
  {
   "cell_type": "code",
   "execution_count": 13,
   "id": "70f4af74",
   "metadata": {},
   "outputs": [],
   "source": [
    "# this is no longer needed to run bc we already obtained the list of repos\n",
    "\n",
    "# list_of_repos = get_repo_links()"
   ]
  },
  {
   "cell_type": "code",
   "execution_count": 14,
   "id": "36b99e3e",
   "metadata": {},
   "outputs": [],
   "source": [
    "# len(list_of_repos)"
   ]
  },
  {
   "cell_type": "code",
   "execution_count": 15,
   "id": "b14fb932",
   "metadata": {},
   "outputs": [],
   "source": [
    "# function to obtain scraped github data\n",
    "\n",
    "sth = a.scrape_github_data()"
   ]
  },
  {
   "cell_type": "code",
   "execution_count": 16,
   "id": "a051b749",
   "metadata": {},
   "outputs": [],
   "source": [
    "# make dataframe of dictionary of readmes\n",
    "\n",
    "df = pd.DataFrame(sth)"
   ]
  },
  {
   "cell_type": "code",
   "execution_count": null,
   "id": "967f2f10",
   "metadata": {},
   "outputs": [],
   "source": []
  },
  {
   "cell_type": "code",
   "execution_count": 17,
   "id": "bb6c2c31",
   "metadata": {},
   "outputs": [
    {
     "name": "stdout",
     "output_type": "stream",
     "text": [
      "b'My name is St\\\\xe5le+++'\n",
      "b'My name is Stle+++'\n",
      "b'My name is St\\\\N{LATIN SMALL LETTER A WITH RING ABOVE}le+++'\n",
      "b'My name is St?le+++'\n",
      "b'My name is St&#229;le+++'\n"
     ]
    }
   ],
   "source": [
    "txt = \"My name is Ståle+++\"\n",
    "\n",
    "print(txt.encode(encoding=\"ascii\",errors=\"backslashreplace\"))\n",
    "print(txt.encode(encoding=\"ascii\",errors=\"ignore\"))\n",
    "print(txt.encode(encoding=\"ascii\",errors=\"namereplace\"))\n",
    "print(txt.encode(encoding=\"ascii\",errors=\"replace\"))\n",
    "print(txt.encode(encoding=\"ascii\",errors=\"xmlcharrefreplace\"))"
   ]
  },
  {
   "cell_type": "code",
   "execution_count": 18,
   "id": "66b33051",
   "metadata": {},
   "outputs": [],
   "source": [
    "def clean_text(text, extra_stopwords=['r', 'u', '2', 'ltgt']):\n",
    "    '''\n",
    "    This function does what 'basic_clean' does, but takes it a step further by removing stopwords and lemmatizing the text.\n",
    "    '''\n",
    "    wnl = nltk.stem.WordNetLemmatizer()\n",
    "    \n",
    "    stopwords = nltk.corpus.stopwords.words('english') + extra_stopwords\n",
    "    \n",
    "    clean_text = (unicodedata.normalize('NFKD', text)\n",
    "                   .encode('ascii', 'ignore')\n",
    "                   .decode('utf-8', 'ignore')\n",
    "                   .lower())\n",
    "    \n",
    "    words = re.sub(r'[^\\w\\s+]', '', clean_text).split()\n",
    "    \n",
    "    return [wnl.lemmatize(word) for word in words if word not in stopwords]"
   ]
  },
  {
   "cell_type": "code",
   "execution_count": 19,
   "id": "0b1de7b5",
   "metadata": {},
   "outputs": [
    {
     "data": {
      "text/plain": [
       "['afdkj', '+++', 'c', 'c+', 'c++', 'ruby', 'java', 'rust', 'julia', 'python']"
      ]
     },
     "execution_count": 19,
     "metadata": {},
     "output_type": "execute_result"
    }
   ],
   "source": [
    "# testing function \n",
    "\n",
    "clean_text('afdkj be an +++ c c+ c++ ruby java rust julia r python')"
   ]
  },
  {
   "cell_type": "code",
   "execution_count": 20,
   "id": "686a6aa0",
   "metadata": {},
   "outputs": [],
   "source": [
    "def stem(string):\n",
    "    '''\n",
    "    This function takes in text and returns the stem word joined back into the text\n",
    "    '''\n",
    "    #create porter stemmer\n",
    "    ps = nltk.porter.PorterStemmer()\n",
    "    \n",
    "    #use the stem, split string using each word\n",
    "    stems = [ps.stem(word) for word in string.split()]\n",
    "    \n",
    "    #join stem word to string\n",
    "    string = ' '.join(stems)\n",
    "\n",
    "    return string\n"
   ]
  },
  {
   "cell_type": "code",
   "execution_count": 21,
   "id": "ec36561e",
   "metadata": {},
   "outputs": [
    {
     "data": {
      "text/plain": [
       "'afdkj be an +++ c c+ c++ rubi java rust julia r python'"
      ]
     },
     "execution_count": 21,
     "metadata": {},
     "output_type": "execute_result"
    }
   ],
   "source": [
    "# testing out 'stem' function\n",
    "\n",
    "stem('afdkj be an +++ c c+ c++ ruby java rust julia r python')"
   ]
  },
  {
   "cell_type": "code",
   "execution_count": 22,
   "id": "3f30fd9b",
   "metadata": {},
   "outputs": [],
   "source": [
    "def lemmatize(string):\n",
    "    '''\n",
    "    This function takes in a string and returns the lemmatized word joined back into the string\n",
    "    '''\n",
    "    #create the lemmatizer\n",
    "    wnl = nltk.stem.WordNetLemmatizer()\n",
    "    \n",
    "    #look at the article \n",
    "    lemmas = [wnl.lemmatize(word) for word in string.split()]\n",
    "    \n",
    "    #join lemmatized words into article\n",
    "    string = ' '.join(lemmas)\n",
    "\n",
    "    return string\n"
   ]
  },
  {
   "cell_type": "code",
   "execution_count": 23,
   "id": "5b369919",
   "metadata": {},
   "outputs": [
    {
     "data": {
      "text/plain": [
       "'afdkj be an +++ c c+ c++ ruby java rust julia r python'"
      ]
     },
     "execution_count": 23,
     "metadata": {},
     "output_type": "execute_result"
    }
   ],
   "source": [
    "# testing out 'lemmatize' function\n",
    "\n",
    "lemmatize('afdkj be an +++ c c+ c++ ruby java rust julia r python')"
   ]
  },
  {
   "cell_type": "code",
   "execution_count": 24,
   "id": "4fe7e4eb",
   "metadata": {},
   "outputs": [],
   "source": [
    "# applying 'clean_text' function to 'readme_contents' col of df\n",
    "\n",
    "df['cleaned_text'] = df['readme_contents'].apply(clean_text)"
   ]
  },
  {
   "cell_type": "code",
   "execution_count": 25,
   "id": "dc93373b",
   "metadata": {},
   "outputs": [
    {
     "data": {
      "text/html": [
       "<div>\n",
       "<style scoped>\n",
       "    .dataframe tbody tr th:only-of-type {\n",
       "        vertical-align: middle;\n",
       "    }\n",
       "\n",
       "    .dataframe tbody tr th {\n",
       "        vertical-align: top;\n",
       "    }\n",
       "\n",
       "    .dataframe thead th {\n",
       "        text-align: right;\n",
       "    }\n",
       "</style>\n",
       "<table border=\"1\" class=\"dataframe\">\n",
       "  <thead>\n",
       "    <tr style=\"text-align: right;\">\n",
       "      <th></th>\n",
       "      <th>repo</th>\n",
       "      <th>language</th>\n",
       "      <th>readme_contents</th>\n",
       "      <th>cleaned_text</th>\n",
       "    </tr>\n",
       "  </thead>\n",
       "  <tbody>\n",
       "    <tr>\n",
       "      <th>0</th>\n",
       "      <td>shoes/shoes4</td>\n",
       "      <td>Ruby</td>\n",
       "      <td># Shoes 4 [![Linux Build Status](https://secur...</td>\n",
       "      <td>[shoe, 4, linux, build, statushttpssecuretravi...</td>\n",
       "    </tr>\n",
       "    <tr>\n",
       "      <th>1</th>\n",
       "      <td>druv5319/Sneaks-API</td>\n",
       "      <td>JavaScript</td>\n",
       "      <td>\\n&lt;p align=\"center\"&gt;\\n  \\n&lt;img src=\"https://gi...</td>\n",
       "      <td>[p, aligncenter, img, srchttpsgithubcomdruv531...</td>\n",
       "    </tr>\n",
       "  </tbody>\n",
       "</table>\n",
       "</div>"
      ],
      "text/plain": [
       "                  repo    language  \\\n",
       "0         shoes/shoes4        Ruby   \n",
       "1  druv5319/Sneaks-API  JavaScript   \n",
       "\n",
       "                                     readme_contents  \\\n",
       "0  # Shoes 4 [![Linux Build Status](https://secur...   \n",
       "1  \\n<p align=\"center\">\\n  \\n<img src=\"https://gi...   \n",
       "\n",
       "                                        cleaned_text  \n",
       "0  [shoe, 4, linux, build, statushttpssecuretravi...  \n",
       "1  [p, aligncenter, img, srchttpsgithubcomdruv531...  "
      ]
     },
     "execution_count": 25,
     "metadata": {},
     "output_type": "execute_result"
    }
   ],
   "source": [
    "df.head(2)"
   ]
  },
  {
   "cell_type": "code",
   "execution_count": 26,
   "id": "44a014a8",
   "metadata": {},
   "outputs": [
    {
     "data": {
      "text/plain": [
       "0     [shoe, 4, linux, build, statushttpssecuretravi...\n",
       "1     [p, aligncenter, img, srchttpsgithubcomdruv531...\n",
       "2     [_, _, _, artsy, anyplatform, app, kit, httpsg...\n",
       "3     [javascriptwebgl, lightweight, robust, hand, t...\n",
       "4     [selenium, shoe, bot, deprecated, program, old...\n",
       "                            ...                        \n",
       "93    [web, design, development, 1, ecomm, webstore,...\n",
       "94                              [kingshoestestgithubio]\n",
       "95    [screenshot, 20221226, 181957httpsuserimagesgi...\n",
       "96    [getting, started, create, react, app, project...\n",
       "97         [cfcsports, added, social, medium, whatsapp]\n",
       "Name: cleaned_text, Length: 98, dtype: object"
      ]
     },
     "execution_count": 26,
     "metadata": {},
     "output_type": "execute_result"
    }
   ],
   "source": [
    "df['cleaned_text']"
   ]
  },
  {
   "cell_type": "code",
   "execution_count": 27,
   "id": "c4fb171a",
   "metadata": {},
   "outputs": [],
   "source": [
    "#returning all the words in readme_contents individually\n",
    "\n",
    "readme_words = clean_text(' '.join(df['readme_contents']))"
   ]
  },
  {
   "cell_type": "code",
   "execution_count": 28,
   "id": "cf61e42e",
   "metadata": {},
   "outputs": [
    {
     "data": {
      "text/plain": [
       "shoe                          206\n",
       "project                       104\n",
       "use                            81\n",
       "app                            78\n",
       "run                            73\n",
       "                             ... \n",
       "installservicemeshoperator      1\n",
       "05_objectbucketclaimyml         1\n",
       "appinfinitemario                1\n",
       "githubkenmoiniupstreamyml       1\n",
       "whatsapp                        1\n",
       "Length: 4459, dtype: int64"
      ]
     },
     "execution_count": 28,
     "metadata": {},
     "output_type": "execute_result"
    }
   ],
   "source": [
    "\n",
    "# setting the cleaned txt to Series and counting word frequency\n",
    "count = pd.Series(readme_words).value_counts()\n",
    "count"
   ]
  },
  {
   "cell_type": "code",
   "execution_count": 29,
   "id": "bdaa29b2",
   "metadata": {},
   "outputs": [
    {
     "data": {
      "text/plain": [
       "repo               0\n",
       "language           6\n",
       "readme_contents    0\n",
       "cleaned_text       0\n",
       "dtype: int64"
      ]
     },
     "execution_count": 29,
     "metadata": {},
     "output_type": "execute_result"
    }
   ],
   "source": [
    "df.isna().sum()"
   ]
  },
  {
   "cell_type": "code",
   "execution_count": 30,
   "id": "9979e3a7",
   "metadata": {},
   "outputs": [],
   "source": [
    "df = df.dropna()"
   ]
  },
  {
   "cell_type": "code",
   "execution_count": 31,
   "id": "40578fe8",
   "metadata": {},
   "outputs": [],
   "source": [
    "#returning all the words in language individually\n",
    "\n",
    "lang_words = clean_text(' '.join(df['language']))\n"
   ]
  },
  {
   "cell_type": "code",
   "execution_count": 32,
   "id": "fadd07fc",
   "metadata": {},
   "outputs": [
    {
     "data": {
      "text/plain": [
       "javascript     19\n",
       "html           16\n",
       "cs             12\n",
       "ruby           10\n",
       "python          8\n",
       "typescript      6\n",
       "dart            3\n",
       "java            3\n",
       "sc              3\n",
       "php             3\n",
       "go              2\n",
       "c++             2\n",
       "smarty          1\n",
       "c               1\n",
       "jupyter         1\n",
       "notebook        1\n",
       "applescript     1\n",
       "vue             1\n",
       "dtype: int64"
      ]
     },
     "execution_count": 32,
     "metadata": {},
     "output_type": "execute_result"
    }
   ],
   "source": [
    "\n",
    "# setting the cleaned txt to Series and counting word frequency\n",
    "count = pd.Series(lang_words).value_counts()\n",
    "count"
   ]
  },
  {
   "cell_type": "code",
   "execution_count": 51,
   "id": "89338d58",
   "metadata": {},
   "outputs": [],
   "source": [
    "def lesser_langs_list(df):\n",
    "    \n",
    "    '''\n",
    "    this function takes in the dataframe of scraped\n",
    "    github data, cleans, lemmatises & removes stopwords,\n",
    "    isolates the language column into word counts, then\n",
    "    turns that col into a separate DF, isolates out the \n",
    "    top 6 languages, and turns all the remaining languages\n",
    "    into a list\n",
    "    '''\n",
    "    \n",
    "    #returning all the words in language individually\n",
    "    lang_words = clean_text(' '.join(df['language']))\n",
    "\n",
    "    # setting the cleaned txt to Series and counting word frequency\n",
    "    count = pd.Series(lang_words).value_counts()\n",
    "\n",
    "    # amke into df\n",
    "    lang_df = pd.DataFrame(count)\n",
    "\n",
    "    # language counts, resetting & renaming index\n",
    "    lang_df.columns = ['counts']\n",
    "    lang_df = lang_df.reset_index()\n",
    "    lang_df = lang_df.rename(columns = {'index':'language'})\n",
    "\n",
    "    # all the languages that are not in the top 6\n",
    "    langs = ['javascript', 'html', 'cs', 'ruby', 'python', 'typescript']\n",
    "    other_langs = lang_df[~lang_df['language'].isin(langs)]\n",
    "\n",
    "    # dropping 'counts col'\n",
    "    other_langs = other_langs.drop(columns=['counts'])\n",
    "    \n",
    "    # turning df into a list\n",
    "    other_langs = other_langs.values.tolist()\n",
    "    \n",
    "    return other_langs"
   ]
  },
  {
   "cell_type": "code",
   "execution_count": 52,
   "id": "3ffa2333",
   "metadata": {},
   "outputs": [
    {
     "data": {
      "text/plain": [
       "[['dart'],\n",
       " ['java'],\n",
       " ['sc'],\n",
       " ['php'],\n",
       " ['go'],\n",
       " ['c++'],\n",
       " ['smarty'],\n",
       " ['c'],\n",
       " ['jupyter'],\n",
       " ['notebook'],\n",
       " ['applescript'],\n",
       " ['vue']]"
      ]
     },
     "execution_count": 52,
     "metadata": {},
     "output_type": "execute_result"
    }
   ],
   "source": [
    "other_langs"
   ]
  },
  {
   "cell_type": "code",
   "execution_count": null,
   "id": "71dcdab3",
   "metadata": {},
   "outputs": [],
   "source": [
    "# the languages in 'language' col\n",
    "\n",
    "df['language'].value_counts()"
   ]
  },
  {
   "cell_type": "code",
   "execution_count": 35,
   "id": "e62fd73f",
   "metadata": {},
   "outputs": [
    {
     "data": {
      "text/html": [
       "<div>\n",
       "<style scoped>\n",
       "    .dataframe tbody tr th:only-of-type {\n",
       "        vertical-align: middle;\n",
       "    }\n",
       "\n",
       "    .dataframe tbody tr th {\n",
       "        vertical-align: top;\n",
       "    }\n",
       "\n",
       "    .dataframe thead th {\n",
       "        text-align: right;\n",
       "    }\n",
       "</style>\n",
       "<table border=\"1\" class=\"dataframe\">\n",
       "  <thead>\n",
       "    <tr style=\"text-align: right;\">\n",
       "      <th></th>\n",
       "      <th>0</th>\n",
       "    </tr>\n",
       "  </thead>\n",
       "  <tbody>\n",
       "    <tr>\n",
       "      <th>javascript</th>\n",
       "      <td>19</td>\n",
       "    </tr>\n",
       "    <tr>\n",
       "      <th>html</th>\n",
       "      <td>16</td>\n",
       "    </tr>\n",
       "    <tr>\n",
       "      <th>cs</th>\n",
       "      <td>12</td>\n",
       "    </tr>\n",
       "    <tr>\n",
       "      <th>ruby</th>\n",
       "      <td>10</td>\n",
       "    </tr>\n",
       "    <tr>\n",
       "      <th>python</th>\n",
       "      <td>8</td>\n",
       "    </tr>\n",
       "  </tbody>\n",
       "</table>\n",
       "</div>"
      ],
      "text/plain": [
       "             0\n",
       "javascript  19\n",
       "html        16\n",
       "cs          12\n",
       "ruby        10\n",
       "python       8"
      ]
     },
     "execution_count": 35,
     "metadata": {},
     "output_type": "execute_result"
    }
   ],
   "source": [
    "# amke into df\n",
    "\n",
    "lang_df = pd.DataFrame(count)\n",
    "lang_df.head()"
   ]
  },
  {
   "cell_type": "code",
   "execution_count": 36,
   "id": "5de2684b",
   "metadata": {},
   "outputs": [
    {
     "data": {
      "text/html": [
       "<div>\n",
       "<style scoped>\n",
       "    .dataframe tbody tr th:only-of-type {\n",
       "        vertical-align: middle;\n",
       "    }\n",
       "\n",
       "    .dataframe tbody tr th {\n",
       "        vertical-align: top;\n",
       "    }\n",
       "\n",
       "    .dataframe thead th {\n",
       "        text-align: right;\n",
       "    }\n",
       "</style>\n",
       "<table border=\"1\" class=\"dataframe\">\n",
       "  <thead>\n",
       "    <tr style=\"text-align: right;\">\n",
       "      <th></th>\n",
       "      <th>language</th>\n",
       "      <th>counts</th>\n",
       "    </tr>\n",
       "  </thead>\n",
       "  <tbody>\n",
       "    <tr>\n",
       "      <th>0</th>\n",
       "      <td>javascript</td>\n",
       "      <td>19</td>\n",
       "    </tr>\n",
       "    <tr>\n",
       "      <th>1</th>\n",
       "      <td>html</td>\n",
       "      <td>16</td>\n",
       "    </tr>\n",
       "    <tr>\n",
       "      <th>2</th>\n",
       "      <td>cs</td>\n",
       "      <td>12</td>\n",
       "    </tr>\n",
       "    <tr>\n",
       "      <th>3</th>\n",
       "      <td>ruby</td>\n",
       "      <td>10</td>\n",
       "    </tr>\n",
       "    <tr>\n",
       "      <th>4</th>\n",
       "      <td>python</td>\n",
       "      <td>8</td>\n",
       "    </tr>\n",
       "    <tr>\n",
       "      <th>5</th>\n",
       "      <td>typescript</td>\n",
       "      <td>6</td>\n",
       "    </tr>\n",
       "    <tr>\n",
       "      <th>6</th>\n",
       "      <td>dart</td>\n",
       "      <td>3</td>\n",
       "    </tr>\n",
       "    <tr>\n",
       "      <th>7</th>\n",
       "      <td>java</td>\n",
       "      <td>3</td>\n",
       "    </tr>\n",
       "    <tr>\n",
       "      <th>8</th>\n",
       "      <td>sc</td>\n",
       "      <td>3</td>\n",
       "    </tr>\n",
       "    <tr>\n",
       "      <th>9</th>\n",
       "      <td>php</td>\n",
       "      <td>3</td>\n",
       "    </tr>\n",
       "    <tr>\n",
       "      <th>10</th>\n",
       "      <td>go</td>\n",
       "      <td>2</td>\n",
       "    </tr>\n",
       "    <tr>\n",
       "      <th>11</th>\n",
       "      <td>c++</td>\n",
       "      <td>2</td>\n",
       "    </tr>\n",
       "    <tr>\n",
       "      <th>12</th>\n",
       "      <td>smarty</td>\n",
       "      <td>1</td>\n",
       "    </tr>\n",
       "    <tr>\n",
       "      <th>13</th>\n",
       "      <td>c</td>\n",
       "      <td>1</td>\n",
       "    </tr>\n",
       "    <tr>\n",
       "      <th>14</th>\n",
       "      <td>jupyter</td>\n",
       "      <td>1</td>\n",
       "    </tr>\n",
       "    <tr>\n",
       "      <th>15</th>\n",
       "      <td>notebook</td>\n",
       "      <td>1</td>\n",
       "    </tr>\n",
       "    <tr>\n",
       "      <th>16</th>\n",
       "      <td>applescript</td>\n",
       "      <td>1</td>\n",
       "    </tr>\n",
       "    <tr>\n",
       "      <th>17</th>\n",
       "      <td>vue</td>\n",
       "      <td>1</td>\n",
       "    </tr>\n",
       "  </tbody>\n",
       "</table>\n",
       "</div>"
      ],
      "text/plain": [
       "       language  counts\n",
       "0    javascript      19\n",
       "1          html      16\n",
       "2            cs      12\n",
       "3          ruby      10\n",
       "4        python       8\n",
       "5    typescript       6\n",
       "6          dart       3\n",
       "7          java       3\n",
       "8            sc       3\n",
       "9           php       3\n",
       "10           go       2\n",
       "11          c++       2\n",
       "12       smarty       1\n",
       "13            c       1\n",
       "14      jupyter       1\n",
       "15     notebook       1\n",
       "16  applescript       1\n",
       "17          vue       1"
      ]
     },
     "execution_count": 36,
     "metadata": {},
     "output_type": "execute_result"
    }
   ],
   "source": [
    "# language counts, resetting & renaming index\n",
    "\n",
    "lang_df.columns = ['counts']\n",
    "lang_df = lang_df.reset_index()\n",
    "lang_df = lang_df.rename(columns = {'index':'language'})\n",
    "lang_df"
   ]
  },
  {
   "cell_type": "code",
   "execution_count": 37,
   "id": "81b84afa",
   "metadata": {},
   "outputs": [
    {
     "data": {
      "text/html": [
       "<div>\n",
       "<style scoped>\n",
       "    .dataframe tbody tr th:only-of-type {\n",
       "        vertical-align: middle;\n",
       "    }\n",
       "\n",
       "    .dataframe tbody tr th {\n",
       "        vertical-align: top;\n",
       "    }\n",
       "\n",
       "    .dataframe thead th {\n",
       "        text-align: right;\n",
       "    }\n",
       "</style>\n",
       "<table border=\"1\" class=\"dataframe\">\n",
       "  <thead>\n",
       "    <tr style=\"text-align: right;\">\n",
       "      <th></th>\n",
       "      <th>language</th>\n",
       "      <th>counts</th>\n",
       "    </tr>\n",
       "  </thead>\n",
       "  <tbody>\n",
       "    <tr>\n",
       "      <th>6</th>\n",
       "      <td>dart</td>\n",
       "      <td>3</td>\n",
       "    </tr>\n",
       "    <tr>\n",
       "      <th>7</th>\n",
       "      <td>java</td>\n",
       "      <td>3</td>\n",
       "    </tr>\n",
       "    <tr>\n",
       "      <th>8</th>\n",
       "      <td>sc</td>\n",
       "      <td>3</td>\n",
       "    </tr>\n",
       "    <tr>\n",
       "      <th>9</th>\n",
       "      <td>php</td>\n",
       "      <td>3</td>\n",
       "    </tr>\n",
       "    <tr>\n",
       "      <th>10</th>\n",
       "      <td>go</td>\n",
       "      <td>2</td>\n",
       "    </tr>\n",
       "    <tr>\n",
       "      <th>11</th>\n",
       "      <td>c++</td>\n",
       "      <td>2</td>\n",
       "    </tr>\n",
       "    <tr>\n",
       "      <th>12</th>\n",
       "      <td>smarty</td>\n",
       "      <td>1</td>\n",
       "    </tr>\n",
       "    <tr>\n",
       "      <th>13</th>\n",
       "      <td>c</td>\n",
       "      <td>1</td>\n",
       "    </tr>\n",
       "    <tr>\n",
       "      <th>14</th>\n",
       "      <td>jupyter</td>\n",
       "      <td>1</td>\n",
       "    </tr>\n",
       "    <tr>\n",
       "      <th>15</th>\n",
       "      <td>notebook</td>\n",
       "      <td>1</td>\n",
       "    </tr>\n",
       "    <tr>\n",
       "      <th>16</th>\n",
       "      <td>applescript</td>\n",
       "      <td>1</td>\n",
       "    </tr>\n",
       "    <tr>\n",
       "      <th>17</th>\n",
       "      <td>vue</td>\n",
       "      <td>1</td>\n",
       "    </tr>\n",
       "  </tbody>\n",
       "</table>\n",
       "</div>"
      ],
      "text/plain": [
       "       language  counts\n",
       "6          dart       3\n",
       "7          java       3\n",
       "8            sc       3\n",
       "9           php       3\n",
       "10           go       2\n",
       "11          c++       2\n",
       "12       smarty       1\n",
       "13            c       1\n",
       "14      jupyter       1\n",
       "15     notebook       1\n",
       "16  applescript       1\n",
       "17          vue       1"
      ]
     },
     "execution_count": 37,
     "metadata": {},
     "output_type": "execute_result"
    }
   ],
   "source": [
    "# all the languages that are not in the top 6\n",
    "\n",
    "langs = ['javascript', 'html', 'cs', 'ruby', 'python', 'typescript']\n",
    "\n",
    "other_langs = lang_df[~lang_df['language'].isin(langs)]\n",
    "\n",
    "other_langs"
   ]
  },
  {
   "cell_type": "code",
   "execution_count": 44,
   "id": "54538603",
   "metadata": {},
   "outputs": [],
   "source": [
    "other_langs = other_langs.drop(columns=['counts'])"
   ]
  },
  {
   "cell_type": "code",
   "execution_count": 45,
   "id": "0bc996b7",
   "metadata": {},
   "outputs": [],
   "source": [
    "other_langs = other_langs.values.tolist()"
   ]
  },
  {
   "cell_type": "code",
   "execution_count": 46,
   "id": "645e5f69",
   "metadata": {},
   "outputs": [
    {
     "data": {
      "text/plain": [
       "[['dart'],\n",
       " ['java'],\n",
       " ['sc'],\n",
       " ['php'],\n",
       " ['go'],\n",
       " ['c++'],\n",
       " ['smarty'],\n",
       " ['c'],\n",
       " ['jupyter'],\n",
       " ['notebook'],\n",
       " ['applescript'],\n",
       " ['vue']]"
      ]
     },
     "execution_count": 46,
     "metadata": {},
     "output_type": "execute_result"
    }
   ],
   "source": [
    "other_langs"
   ]
  },
  {
   "cell_type": "code",
   "execution_count": 55,
   "id": "34c5ef63",
   "metadata": {},
   "outputs": [],
   "source": [
    "# df of frequency counts for all the languages\n",
    "\n",
    "list_of_other = ['Java', 'Jupyter Notebook', 'AppleScript', 'Vue', 'Dart', 'SCSS', 'PHP', 'Go', \"C++\", 'Smarty', 'C']\n",
    "\n",
    "for i in list_of_other:\n",
    "    df['language'] = df['language'].replace(i, 'Other')"
   ]
  },
  {
   "cell_type": "code",
   "execution_count": 58,
   "id": "a1a92bdc",
   "metadata": {},
   "outputs": [
    {
     "data": {
      "text/plain": [
       "0           Ruby\n",
       "1     JavaScript\n",
       "2          Other\n",
       "3     JavaScript\n",
       "4         Python\n",
       "         ...    \n",
       "92           CSS\n",
       "93          HTML\n",
       "95    JavaScript\n",
       "96    TypeScript\n",
       "97           CSS\n",
       "Name: language, Length: 92, dtype: object"
      ]
     },
     "execution_count": 58,
     "metadata": {},
     "output_type": "execute_result"
    }
   ],
   "source": [
    "df['language']"
   ]
  }
 ],
 "metadata": {
  "kernelspec": {
   "display_name": "Python 3 (ipykernel)",
   "language": "python",
   "name": "python3"
  },
  "language_info": {
   "codemirror_mode": {
    "name": "ipython",
    "version": 3
   },
   "file_extension": ".py",
   "mimetype": "text/x-python",
   "name": "python",
   "nbconvert_exporter": "python",
   "pygments_lexer": "ipython3",
   "version": "3.9.13"
  }
 },
 "nbformat": 4,
 "nbformat_minor": 5
}
